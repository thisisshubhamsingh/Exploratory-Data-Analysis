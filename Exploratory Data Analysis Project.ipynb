{
 "cells": [
  {
   "cell_type": "markdown",
   "id": "dde34237",
   "metadata": {},
   "source": [
    "## Exploratory Data Analysis "
   ]
  },
  {
   "cell_type": "markdown",
   "id": "0650e3f3",
   "metadata": {},
   "source": [
    "#### Project Name - Exploratory Data Analysis on  Used_cars price\n",
    "\n",
    "Aim - Analyze the used car's price and identify the factors influencing the car price using EDA."
   ]
  },
  {
   "cell_type": "markdown",
   "id": "d1490d6e",
   "metadata": {},
   "source": [
    "#### dataset = https://www.kaggle.com/datasets/sukhmanibedi/cars4u"
   ]
  },
  {
   "cell_type": "code",
   "execution_count": 1,
   "id": "59532876",
   "metadata": {},
   "outputs": [],
   "source": [
    "#Import necessary library to do EDA\n",
    "\n",
    "import pandas as pd\n",
    "import numpy as np\n",
    "import matplotlib.pyplot as plt\n",
    "import seaborn as sns\n",
    "%matplotlib inline"
   ]
  },
  {
   "cell_type": "code",
   "execution_count": 2,
   "id": "21c3fd72",
   "metadata": {},
   "outputs": [],
   "source": [
    "#Load dataset\n",
    "\n",
    "UsedCar_df = pd.read_csv('used_cars.csv')"
   ]
  },
  {
   "cell_type": "markdown",
   "id": "2f0d2cae",
   "metadata": {},
   "source": [
    "### Basic information"
   ]
  },
  {
   "cell_type": "code",
   "execution_count": 3,
   "id": "596e5122",
   "metadata": {},
   "outputs": [
    {
     "data": {
      "text/plain": [
       "(7253, 14)"
      ]
     },
     "execution_count": 3,
     "metadata": {},
     "output_type": "execute_result"
    }
   ],
   "source": [
    "#Check total number of observations and features.\n",
    "\n",
    "UsedCar_df.shape"
   ]
  },
  {
   "cell_type": "markdown",
   "id": "965a4aae",
   "metadata": {},
   "source": [
    "### Duplicate observation"
   ]
  },
  {
   "cell_type": "code",
   "execution_count": 4,
   "id": "121b8b3d",
   "metadata": {},
   "outputs": [
    {
     "data": {
      "text/plain": [
       "0"
      ]
     },
     "execution_count": 4,
     "metadata": {},
     "output_type": "execute_result"
    }
   ],
   "source": [
    "UsedCar_df.duplicated().sum()"
   ]
  },
  {
   "cell_type": "markdown",
   "id": "e579b434",
   "metadata": {},
   "source": [
    "#### Observation:\n",
    "    \n",
    "We are getting 0. this means their is not a single duplicate observation in our dataset and that is good."
   ]
  },
  {
   "cell_type": "code",
   "execution_count": 5,
   "id": "699e108c",
   "metadata": {},
   "outputs": [
    {
     "data": {
      "text/html": [
       "<div>\n",
       "<style scoped>\n",
       "    .dataframe tbody tr th:only-of-type {\n",
       "        vertical-align: middle;\n",
       "    }\n",
       "\n",
       "    .dataframe tbody tr th {\n",
       "        vertical-align: top;\n",
       "    }\n",
       "\n",
       "    .dataframe thead th {\n",
       "        text-align: right;\n",
       "    }\n",
       "</style>\n",
       "<table border=\"1\" class=\"dataframe\">\n",
       "  <thead>\n",
       "    <tr style=\"text-align: right;\">\n",
       "      <th></th>\n",
       "      <th>S.No.</th>\n",
       "      <th>Name</th>\n",
       "      <th>Location</th>\n",
       "      <th>Year</th>\n",
       "      <th>Kilometers_Driven</th>\n",
       "      <th>Fuel_Type</th>\n",
       "      <th>Transmission</th>\n",
       "      <th>Owner_Type</th>\n",
       "      <th>Mileage</th>\n",
       "      <th>Engine</th>\n",
       "      <th>Power</th>\n",
       "      <th>Seats</th>\n",
       "      <th>New_Price</th>\n",
       "      <th>Price</th>\n",
       "    </tr>\n",
       "  </thead>\n",
       "  <tbody>\n",
       "    <tr>\n",
       "      <th>0</th>\n",
       "      <td>0</td>\n",
       "      <td>Maruti Wagon R LXI CNG</td>\n",
       "      <td>Mumbai</td>\n",
       "      <td>2010</td>\n",
       "      <td>72000</td>\n",
       "      <td>CNG</td>\n",
       "      <td>Manual</td>\n",
       "      <td>First</td>\n",
       "      <td>26.6 km/kg</td>\n",
       "      <td>998 CC</td>\n",
       "      <td>58.16 bhp</td>\n",
       "      <td>5.0</td>\n",
       "      <td>NaN</td>\n",
       "      <td>1.75</td>\n",
       "    </tr>\n",
       "    <tr>\n",
       "      <th>1</th>\n",
       "      <td>1</td>\n",
       "      <td>Hyundai Creta 1.6 CRDi SX Option</td>\n",
       "      <td>Pune</td>\n",
       "      <td>2015</td>\n",
       "      <td>41000</td>\n",
       "      <td>Diesel</td>\n",
       "      <td>Manual</td>\n",
       "      <td>First</td>\n",
       "      <td>19.67 kmpl</td>\n",
       "      <td>1582 CC</td>\n",
       "      <td>126.2 bhp</td>\n",
       "      <td>5.0</td>\n",
       "      <td>NaN</td>\n",
       "      <td>12.50</td>\n",
       "    </tr>\n",
       "    <tr>\n",
       "      <th>2</th>\n",
       "      <td>2</td>\n",
       "      <td>Honda Jazz V</td>\n",
       "      <td>Chennai</td>\n",
       "      <td>2011</td>\n",
       "      <td>46000</td>\n",
       "      <td>Petrol</td>\n",
       "      <td>Manual</td>\n",
       "      <td>First</td>\n",
       "      <td>18.2 kmpl</td>\n",
       "      <td>1199 CC</td>\n",
       "      <td>88.7 bhp</td>\n",
       "      <td>5.0</td>\n",
       "      <td>8.61 Lakh</td>\n",
       "      <td>4.50</td>\n",
       "    </tr>\n",
       "    <tr>\n",
       "      <th>3</th>\n",
       "      <td>3</td>\n",
       "      <td>Maruti Ertiga VDI</td>\n",
       "      <td>Chennai</td>\n",
       "      <td>2012</td>\n",
       "      <td>87000</td>\n",
       "      <td>Diesel</td>\n",
       "      <td>Manual</td>\n",
       "      <td>First</td>\n",
       "      <td>20.77 kmpl</td>\n",
       "      <td>1248 CC</td>\n",
       "      <td>88.76 bhp</td>\n",
       "      <td>7.0</td>\n",
       "      <td>NaN</td>\n",
       "      <td>6.00</td>\n",
       "    </tr>\n",
       "    <tr>\n",
       "      <th>4</th>\n",
       "      <td>4</td>\n",
       "      <td>Audi A4 New 2.0 TDI Multitronic</td>\n",
       "      <td>Coimbatore</td>\n",
       "      <td>2013</td>\n",
       "      <td>40670</td>\n",
       "      <td>Diesel</td>\n",
       "      <td>Automatic</td>\n",
       "      <td>Second</td>\n",
       "      <td>15.2 kmpl</td>\n",
       "      <td>1968 CC</td>\n",
       "      <td>140.8 bhp</td>\n",
       "      <td>5.0</td>\n",
       "      <td>NaN</td>\n",
       "      <td>17.74</td>\n",
       "    </tr>\n",
       "  </tbody>\n",
       "</table>\n",
       "</div>"
      ],
      "text/plain": [
       "   S.No.                              Name    Location  Year  \\\n",
       "0      0            Maruti Wagon R LXI CNG      Mumbai  2010   \n",
       "1      1  Hyundai Creta 1.6 CRDi SX Option        Pune  2015   \n",
       "2      2                      Honda Jazz V     Chennai  2011   \n",
       "3      3                 Maruti Ertiga VDI     Chennai  2012   \n",
       "4      4   Audi A4 New 2.0 TDI Multitronic  Coimbatore  2013   \n",
       "\n",
       "   Kilometers_Driven Fuel_Type Transmission Owner_Type     Mileage   Engine  \\\n",
       "0              72000       CNG       Manual      First  26.6 km/kg   998 CC   \n",
       "1              41000    Diesel       Manual      First  19.67 kmpl  1582 CC   \n",
       "2              46000    Petrol       Manual      First   18.2 kmpl  1199 CC   \n",
       "3              87000    Diesel       Manual      First  20.77 kmpl  1248 CC   \n",
       "4              40670    Diesel    Automatic     Second   15.2 kmpl  1968 CC   \n",
       "\n",
       "       Power  Seats  New_Price  Price  \n",
       "0  58.16 bhp    5.0        NaN   1.75  \n",
       "1  126.2 bhp    5.0        NaN  12.50  \n",
       "2   88.7 bhp    5.0  8.61 Lakh   4.50  \n",
       "3  88.76 bhp    7.0        NaN   6.00  \n",
       "4  140.8 bhp    5.0        NaN  17.74  "
      ]
     },
     "execution_count": 5,
     "metadata": {},
     "output_type": "execute_result"
    }
   ],
   "source": [
    "#See top 5 and bottom 5 records\n",
    "\n",
    "UsedCar_df.head()"
   ]
  },
  {
   "cell_type": "code",
   "execution_count": 6,
   "id": "045dd40b",
   "metadata": {},
   "outputs": [
    {
     "data": {
      "text/html": [
       "<div>\n",
       "<style scoped>\n",
       "    .dataframe tbody tr th:only-of-type {\n",
       "        vertical-align: middle;\n",
       "    }\n",
       "\n",
       "    .dataframe tbody tr th {\n",
       "        vertical-align: top;\n",
       "    }\n",
       "\n",
       "    .dataframe thead th {\n",
       "        text-align: right;\n",
       "    }\n",
       "</style>\n",
       "<table border=\"1\" class=\"dataframe\">\n",
       "  <thead>\n",
       "    <tr style=\"text-align: right;\">\n",
       "      <th></th>\n",
       "      <th>S.No.</th>\n",
       "      <th>Name</th>\n",
       "      <th>Location</th>\n",
       "      <th>Year</th>\n",
       "      <th>Kilometers_Driven</th>\n",
       "      <th>Fuel_Type</th>\n",
       "      <th>Transmission</th>\n",
       "      <th>Owner_Type</th>\n",
       "      <th>Mileage</th>\n",
       "      <th>Engine</th>\n",
       "      <th>Power</th>\n",
       "      <th>Seats</th>\n",
       "      <th>New_Price</th>\n",
       "      <th>Price</th>\n",
       "    </tr>\n",
       "  </thead>\n",
       "  <tbody>\n",
       "    <tr>\n",
       "      <th>7248</th>\n",
       "      <td>7248</td>\n",
       "      <td>Volkswagen Vento Diesel Trendline</td>\n",
       "      <td>Hyderabad</td>\n",
       "      <td>2011</td>\n",
       "      <td>89411</td>\n",
       "      <td>Diesel</td>\n",
       "      <td>Manual</td>\n",
       "      <td>First</td>\n",
       "      <td>20.54 kmpl</td>\n",
       "      <td>1598 CC</td>\n",
       "      <td>103.6 bhp</td>\n",
       "      <td>5.0</td>\n",
       "      <td>NaN</td>\n",
       "      <td>NaN</td>\n",
       "    </tr>\n",
       "    <tr>\n",
       "      <th>7249</th>\n",
       "      <td>7249</td>\n",
       "      <td>Volkswagen Polo GT TSI</td>\n",
       "      <td>Mumbai</td>\n",
       "      <td>2015</td>\n",
       "      <td>59000</td>\n",
       "      <td>Petrol</td>\n",
       "      <td>Automatic</td>\n",
       "      <td>First</td>\n",
       "      <td>17.21 kmpl</td>\n",
       "      <td>1197 CC</td>\n",
       "      <td>103.6 bhp</td>\n",
       "      <td>5.0</td>\n",
       "      <td>NaN</td>\n",
       "      <td>NaN</td>\n",
       "    </tr>\n",
       "    <tr>\n",
       "      <th>7250</th>\n",
       "      <td>7250</td>\n",
       "      <td>Nissan Micra Diesel XV</td>\n",
       "      <td>Kolkata</td>\n",
       "      <td>2012</td>\n",
       "      <td>28000</td>\n",
       "      <td>Diesel</td>\n",
       "      <td>Manual</td>\n",
       "      <td>First</td>\n",
       "      <td>23.08 kmpl</td>\n",
       "      <td>1461 CC</td>\n",
       "      <td>63.1 bhp</td>\n",
       "      <td>5.0</td>\n",
       "      <td>NaN</td>\n",
       "      <td>NaN</td>\n",
       "    </tr>\n",
       "    <tr>\n",
       "      <th>7251</th>\n",
       "      <td>7251</td>\n",
       "      <td>Volkswagen Polo GT TSI</td>\n",
       "      <td>Pune</td>\n",
       "      <td>2013</td>\n",
       "      <td>52262</td>\n",
       "      <td>Petrol</td>\n",
       "      <td>Automatic</td>\n",
       "      <td>Third</td>\n",
       "      <td>17.2 kmpl</td>\n",
       "      <td>1197 CC</td>\n",
       "      <td>103.6 bhp</td>\n",
       "      <td>5.0</td>\n",
       "      <td>NaN</td>\n",
       "      <td>NaN</td>\n",
       "    </tr>\n",
       "    <tr>\n",
       "      <th>7252</th>\n",
       "      <td>7252</td>\n",
       "      <td>Mercedes-Benz E-Class 2009-2013 E 220 CDI Avan...</td>\n",
       "      <td>Kochi</td>\n",
       "      <td>2014</td>\n",
       "      <td>72443</td>\n",
       "      <td>Diesel</td>\n",
       "      <td>Automatic</td>\n",
       "      <td>First</td>\n",
       "      <td>10.0 kmpl</td>\n",
       "      <td>2148 CC</td>\n",
       "      <td>170 bhp</td>\n",
       "      <td>5.0</td>\n",
       "      <td>NaN</td>\n",
       "      <td>NaN</td>\n",
       "    </tr>\n",
       "  </tbody>\n",
       "</table>\n",
       "</div>"
      ],
      "text/plain": [
       "      S.No.                                               Name   Location  \\\n",
       "7248   7248                  Volkswagen Vento Diesel Trendline  Hyderabad   \n",
       "7249   7249                             Volkswagen Polo GT TSI     Mumbai   \n",
       "7250   7250                             Nissan Micra Diesel XV    Kolkata   \n",
       "7251   7251                             Volkswagen Polo GT TSI       Pune   \n",
       "7252   7252  Mercedes-Benz E-Class 2009-2013 E 220 CDI Avan...      Kochi   \n",
       "\n",
       "      Year  Kilometers_Driven Fuel_Type Transmission Owner_Type     Mileage  \\\n",
       "7248  2011              89411    Diesel       Manual      First  20.54 kmpl   \n",
       "7249  2015              59000    Petrol    Automatic      First  17.21 kmpl   \n",
       "7250  2012              28000    Diesel       Manual      First  23.08 kmpl   \n",
       "7251  2013              52262    Petrol    Automatic      Third   17.2 kmpl   \n",
       "7252  2014              72443    Diesel    Automatic      First   10.0 kmpl   \n",
       "\n",
       "       Engine      Power  Seats New_Price  Price  \n",
       "7248  1598 CC  103.6 bhp    5.0       NaN    NaN  \n",
       "7249  1197 CC  103.6 bhp    5.0       NaN    NaN  \n",
       "7250  1461 CC   63.1 bhp    5.0       NaN    NaN  \n",
       "7251  1197 CC  103.6 bhp    5.0       NaN    NaN  \n",
       "7252  2148 CC    170 bhp    5.0       NaN    NaN  "
      ]
     },
     "execution_count": 6,
     "metadata": {},
     "output_type": "execute_result"
    }
   ],
   "source": [
    "UsedCar_df.tail()"
   ]
  },
  {
   "cell_type": "markdown",
   "id": "4d3b3153",
   "metadata": {},
   "source": [
    "#### Observation:\n",
    "* We can see that the in Mileage feature their is difference in unit.\n",
    "* We have to convert km/kg to kmpl for all the observations\n",
    "\n",
    "* Or remove units from Mileage ,Engine Power and New_price."
   ]
  },
  {
   "cell_type": "code",
   "execution_count": 7,
   "id": "3cb59026",
   "metadata": {},
   "outputs": [],
   "source": [
    "#Replace km/kg to kmpl\n",
    "\n",
    "UsedCar_df[\"Mileage\"] = UsedCar_df['Mileage'].str.replace('km/kg' , 'kmpl')"
   ]
  },
  {
   "cell_type": "code",
   "execution_count": 8,
   "id": "6adab971",
   "metadata": {},
   "outputs": [
    {
     "data": {
      "text/html": [
       "<div>\n",
       "<style scoped>\n",
       "    .dataframe tbody tr th:only-of-type {\n",
       "        vertical-align: middle;\n",
       "    }\n",
       "\n",
       "    .dataframe tbody tr th {\n",
       "        vertical-align: top;\n",
       "    }\n",
       "\n",
       "    .dataframe thead th {\n",
       "        text-align: right;\n",
       "    }\n",
       "</style>\n",
       "<table border=\"1\" class=\"dataframe\">\n",
       "  <thead>\n",
       "    <tr style=\"text-align: right;\">\n",
       "      <th></th>\n",
       "      <th>S.No.</th>\n",
       "      <th>Name</th>\n",
       "      <th>Location</th>\n",
       "      <th>Year</th>\n",
       "      <th>Kilometers_Driven</th>\n",
       "      <th>Fuel_Type</th>\n",
       "      <th>Transmission</th>\n",
       "      <th>Owner_Type</th>\n",
       "      <th>Mileage</th>\n",
       "      <th>Engine</th>\n",
       "      <th>Power</th>\n",
       "      <th>Seats</th>\n",
       "      <th>New_Price</th>\n",
       "      <th>Price</th>\n",
       "    </tr>\n",
       "  </thead>\n",
       "  <tbody>\n",
       "    <tr>\n",
       "      <th>0</th>\n",
       "      <td>0</td>\n",
       "      <td>Maruti Wagon R LXI CNG</td>\n",
       "      <td>Mumbai</td>\n",
       "      <td>2010</td>\n",
       "      <td>72000</td>\n",
       "      <td>CNG</td>\n",
       "      <td>Manual</td>\n",
       "      <td>First</td>\n",
       "      <td>26.6</td>\n",
       "      <td>998</td>\n",
       "      <td>58.16</td>\n",
       "      <td>5.0</td>\n",
       "      <td>NaN</td>\n",
       "      <td>1.75</td>\n",
       "    </tr>\n",
       "    <tr>\n",
       "      <th>1</th>\n",
       "      <td>1</td>\n",
       "      <td>Hyundai Creta 1.6 CRDi SX Option</td>\n",
       "      <td>Pune</td>\n",
       "      <td>2015</td>\n",
       "      <td>41000</td>\n",
       "      <td>Diesel</td>\n",
       "      <td>Manual</td>\n",
       "      <td>First</td>\n",
       "      <td>19.67</td>\n",
       "      <td>1582</td>\n",
       "      <td>126.2</td>\n",
       "      <td>5.0</td>\n",
       "      <td>NaN</td>\n",
       "      <td>12.50</td>\n",
       "    </tr>\n",
       "    <tr>\n",
       "      <th>2</th>\n",
       "      <td>2</td>\n",
       "      <td>Honda Jazz V</td>\n",
       "      <td>Chennai</td>\n",
       "      <td>2011</td>\n",
       "      <td>46000</td>\n",
       "      <td>Petrol</td>\n",
       "      <td>Manual</td>\n",
       "      <td>First</td>\n",
       "      <td>18.2</td>\n",
       "      <td>1199</td>\n",
       "      <td>88.7</td>\n",
       "      <td>5.0</td>\n",
       "      <td>8.61</td>\n",
       "      <td>4.50</td>\n",
       "    </tr>\n",
       "    <tr>\n",
       "      <th>3</th>\n",
       "      <td>3</td>\n",
       "      <td>Maruti Ertiga VDI</td>\n",
       "      <td>Chennai</td>\n",
       "      <td>2012</td>\n",
       "      <td>87000</td>\n",
       "      <td>Diesel</td>\n",
       "      <td>Manual</td>\n",
       "      <td>First</td>\n",
       "      <td>20.77</td>\n",
       "      <td>1248</td>\n",
       "      <td>88.76</td>\n",
       "      <td>7.0</td>\n",
       "      <td>NaN</td>\n",
       "      <td>6.00</td>\n",
       "    </tr>\n",
       "    <tr>\n",
       "      <th>4</th>\n",
       "      <td>4</td>\n",
       "      <td>Audi A4 New 2.0 TDI Multitronic</td>\n",
       "      <td>Coimbatore</td>\n",
       "      <td>2013</td>\n",
       "      <td>40670</td>\n",
       "      <td>Diesel</td>\n",
       "      <td>Automatic</td>\n",
       "      <td>Second</td>\n",
       "      <td>15.2</td>\n",
       "      <td>1968</td>\n",
       "      <td>140.8</td>\n",
       "      <td>5.0</td>\n",
       "      <td>NaN</td>\n",
       "      <td>17.74</td>\n",
       "    </tr>\n",
       "  </tbody>\n",
       "</table>\n",
       "</div>"
      ],
      "text/plain": [
       "   S.No.                              Name    Location  Year  \\\n",
       "0      0            Maruti Wagon R LXI CNG      Mumbai  2010   \n",
       "1      1  Hyundai Creta 1.6 CRDi SX Option        Pune  2015   \n",
       "2      2                      Honda Jazz V     Chennai  2011   \n",
       "3      3                 Maruti Ertiga VDI     Chennai  2012   \n",
       "4      4   Audi A4 New 2.0 TDI Multitronic  Coimbatore  2013   \n",
       "\n",
       "   Kilometers_Driven Fuel_Type Transmission Owner_Type Mileage Engine  Power  \\\n",
       "0              72000       CNG       Manual      First    26.6    998  58.16   \n",
       "1              41000    Diesel       Manual      First   19.67   1582  126.2   \n",
       "2              46000    Petrol       Manual      First    18.2   1199   88.7   \n",
       "3              87000    Diesel       Manual      First   20.77   1248  88.76   \n",
       "4              40670    Diesel    Automatic     Second    15.2   1968  140.8   \n",
       "\n",
       "   Seats New_Price  Price  \n",
       "0    5.0       NaN   1.75  \n",
       "1    5.0       NaN  12.50  \n",
       "2    5.0      8.61   4.50  \n",
       "3    7.0       NaN   6.00  \n",
       "4    5.0       NaN  17.74  "
      ]
     },
     "execution_count": 8,
     "metadata": {},
     "output_type": "execute_result"
    }
   ],
   "source": [
    "#Replacing units from features\n",
    "import warnings\n",
    "warnings.filterwarnings(\"ignore\")\n",
    "\n",
    "UsedCar_df[\"Mileage\"] = UsedCar_df['Mileage'].str.replace('[^\\d.]' ,'')\n",
    "UsedCar_df['Engine'] = UsedCar_df['Engine'].str.replace('[^\\d.]' ,'')\n",
    "UsedCar_df['Power'] = UsedCar_df['Power'].str.replace('[^\\d.]' , '')\n",
    "UsedCar_df['New_Price'] = UsedCar_df['New_Price'].str.replace('[^\\d.]' , '')\n",
    "\n",
    "UsedCar_df.head()\n"
   ]
  },
  {
   "cell_type": "code",
   "execution_count": null,
   "id": "86e29089",
   "metadata": {},
   "outputs": [],
   "source": []
  },
  {
   "cell_type": "markdown",
   "id": "773cae32",
   "metadata": {},
   "source": [
    "#### Observation:\n",
    "So we have successfully handled the units of Mileage,Engine,Power and New_Price."
   ]
  },
  {
   "cell_type": "code",
   "execution_count": 9,
   "id": "f5436ef5",
   "metadata": {
    "scrolled": false
   },
   "outputs": [
    {
     "name": "stdout",
     "output_type": "stream",
     "text": [
      "<class 'pandas.core.frame.DataFrame'>\n",
      "RangeIndex: 7253 entries, 0 to 7252\n",
      "Data columns (total 14 columns):\n",
      " #   Column             Non-Null Count  Dtype  \n",
      "---  ------             --------------  -----  \n",
      " 0   S.No.              7253 non-null   int64  \n",
      " 1   Name               7253 non-null   object \n",
      " 2   Location           7253 non-null   object \n",
      " 3   Year               7253 non-null   int64  \n",
      " 4   Kilometers_Driven  7253 non-null   int64  \n",
      " 5   Fuel_Type          7253 non-null   object \n",
      " 6   Transmission       7253 non-null   object \n",
      " 7   Owner_Type         7253 non-null   object \n",
      " 8   Mileage            7251 non-null   object \n",
      " 9   Engine             7207 non-null   object \n",
      " 10  Power              7207 non-null   object \n",
      " 11  Seats              7200 non-null   float64\n",
      " 12  New_Price          1006 non-null   object \n",
      " 13  Price              6019 non-null   float64\n",
      "dtypes: float64(2), int64(3), object(9)\n",
      "memory usage: 793.4+ KB\n"
     ]
    }
   ],
   "source": [
    "#We have to know some basic information about our dataset for better understanding.\n",
    "\n",
    "UsedCar_df.info()"
   ]
  },
  {
   "cell_type": "markdown",
   "id": "a83e112f",
   "metadata": {},
   "source": [
    "#### Observation:\n",
    "We have to convert datatypes of Mileage , Engine , Power and New_Price to int/float \n",
    "because we can not perform mean,median on string datatype.\n"
   ]
  },
  {
   "cell_type": "markdown",
   "id": "9d54de15",
   "metadata": {},
   "source": [
    "### DataType Conversion:"
   ]
  },
  {
   "cell_type": "code",
   "execution_count": 10,
   "id": "201d2033",
   "metadata": {},
   "outputs": [],
   "source": [
    "UsedCar_df[['Mileage' , 'Engine' , 'New_Price']] = UsedCar_df[['Mileage' , 'Engine' , 'New_Price']].astype('float')"
   ]
  },
  {
   "cell_type": "markdown",
   "id": "4047353f",
   "metadata": {},
   "source": [
    "#### * DataType of Power is not converting through astype() so changed it through apply(pd.to_numeric)"
   ]
  },
  {
   "cell_type": "code",
   "execution_count": 11,
   "id": "61fd1e68",
   "metadata": {},
   "outputs": [],
   "source": [
    "UsedCar_df['Power'] = UsedCar_df['Power'].apply(pd.to_numeric)"
   ]
  },
  {
   "cell_type": "code",
   "execution_count": 12,
   "id": "3fceba05",
   "metadata": {},
   "outputs": [
    {
     "name": "stdout",
     "output_type": "stream",
     "text": [
      "<class 'pandas.core.frame.DataFrame'>\n",
      "RangeIndex: 7253 entries, 0 to 7252\n",
      "Data columns (total 14 columns):\n",
      " #   Column             Non-Null Count  Dtype  \n",
      "---  ------             --------------  -----  \n",
      " 0   S.No.              7253 non-null   int64  \n",
      " 1   Name               7253 non-null   object \n",
      " 2   Location           7253 non-null   object \n",
      " 3   Year               7253 non-null   int64  \n",
      " 4   Kilometers_Driven  7253 non-null   int64  \n",
      " 5   Fuel_Type          7253 non-null   object \n",
      " 6   Transmission       7253 non-null   object \n",
      " 7   Owner_Type         7253 non-null   object \n",
      " 8   Mileage            7251 non-null   float64\n",
      " 9   Engine             7207 non-null   float64\n",
      " 10  Power              7078 non-null   float64\n",
      " 11  Seats              7200 non-null   float64\n",
      " 12  New_Price          1006 non-null   float64\n",
      " 13  Price              6019 non-null   float64\n",
      "dtypes: float64(6), int64(3), object(5)\n",
      "memory usage: 793.4+ KB\n"
     ]
    }
   ],
   "source": [
    "UsedCar_df.info()"
   ]
  },
  {
   "cell_type": "markdown",
   "id": "9af18539",
   "metadata": {},
   "source": [
    "### Missing values"
   ]
  },
  {
   "cell_type": "code",
   "execution_count": 13,
   "id": "77b3e7af",
   "metadata": {},
   "outputs": [
    {
     "data": {
      "text/plain": [
       "S.No.                   0\n",
       "Name                    0\n",
       "Location                0\n",
       "Year                    0\n",
       "Kilometers_Driven       0\n",
       "Fuel_Type               0\n",
       "Transmission            0\n",
       "Owner_Type              0\n",
       "Mileage                 2\n",
       "Engine                 46\n",
       "Power                 175\n",
       "Seats                  53\n",
       "New_Price            6247\n",
       "Price                1234\n",
       "dtype: int64"
      ]
     },
     "execution_count": 13,
     "metadata": {},
     "output_type": "execute_result"
    }
   ],
   "source": [
    "UsedCar_df.isnull().sum()"
   ]
  },
  {
   "cell_type": "markdown",
   "id": "e79b2777",
   "metadata": {},
   "source": [
    "####  We have missing values in Mileage , Engine , Power , Seats and New_price.\n",
    "* Because for this features datatype is object so we have to convert it to integer.\n",
    "* Beacause we have nan we can not convert datatype.\n",
    "* So first we have to raplace nan with 0 then convert datatype to int then fill 0 with mean ,median ,mode."
   ]
  },
  {
   "cell_type": "code",
   "execution_count": 14,
   "id": "eb6272f4",
   "metadata": {},
   "outputs": [],
   "source": [
    "#Calculating total percentage of missing values \n",
    "\n",
    "MissingValues_Pct = UsedCar_df.isnull().sum()/len(UsedCar_df.index)*100"
   ]
  },
  {
   "cell_type": "code",
   "execution_count": 15,
   "id": "02500f00",
   "metadata": {},
   "outputs": [
    {
     "name": "stdout",
     "output_type": "stream",
     "text": [
      "S.No.                 0.000000\n",
      "Name                  0.000000\n",
      "Location              0.000000\n",
      "Year                  0.000000\n",
      "Kilometers_Driven     0.000000\n",
      "Fuel_Type             0.000000\n",
      "Transmission          0.000000\n",
      "Owner_Type            0.000000\n",
      "Mileage               0.027575\n",
      "Engine                0.634220\n",
      "Power                 2.412795\n",
      "Seats                 0.730732\n",
      "New_Price            86.129877\n",
      "Price                17.013650\n",
      "dtype: float64\n"
     ]
    }
   ],
   "source": [
    "print(MissingValues_Pct)"
   ]
  },
  {
   "cell_type": "markdown",
   "id": "93f36ecc",
   "metadata": {},
   "source": [
    "#### Observation:\n",
    "\n",
    "1. We can see that the some features like Mileage , Engine , Power , Seats , New_Price has missing values.\n",
    "2. New_Price feature has 86% of missing data followed by Price 7%."
   ]
  },
  {
   "cell_type": "markdown",
   "id": "a7f20e53",
   "metadata": {},
   "source": [
    "#### We can drop New_Price column because it has more than 85% of missing values"
   ]
  },
  {
   "cell_type": "code",
   "execution_count": 16,
   "id": "14502b0d",
   "metadata": {},
   "outputs": [],
   "source": [
    "UsedCar_df = UsedCar_df.drop(['New_Price'] , axis = 1)"
   ]
  },
  {
   "cell_type": "code",
   "execution_count": 17,
   "id": "6d7532db",
   "metadata": {},
   "outputs": [
    {
     "data": {
      "text/html": [
       "<div>\n",
       "<style scoped>\n",
       "    .dataframe tbody tr th:only-of-type {\n",
       "        vertical-align: middle;\n",
       "    }\n",
       "\n",
       "    .dataframe tbody tr th {\n",
       "        vertical-align: top;\n",
       "    }\n",
       "\n",
       "    .dataframe thead th {\n",
       "        text-align: right;\n",
       "    }\n",
       "</style>\n",
       "<table border=\"1\" class=\"dataframe\">\n",
       "  <thead>\n",
       "    <tr style=\"text-align: right;\">\n",
       "      <th></th>\n",
       "      <th>S.No.</th>\n",
       "      <th>Name</th>\n",
       "      <th>Location</th>\n",
       "      <th>Year</th>\n",
       "      <th>Kilometers_Driven</th>\n",
       "      <th>Fuel_Type</th>\n",
       "      <th>Transmission</th>\n",
       "      <th>Owner_Type</th>\n",
       "      <th>Mileage</th>\n",
       "      <th>Engine</th>\n",
       "      <th>Power</th>\n",
       "      <th>Seats</th>\n",
       "      <th>Price</th>\n",
       "    </tr>\n",
       "  </thead>\n",
       "  <tbody>\n",
       "    <tr>\n",
       "      <th>0</th>\n",
       "      <td>0</td>\n",
       "      <td>Maruti Wagon R LXI CNG</td>\n",
       "      <td>Mumbai</td>\n",
       "      <td>2010</td>\n",
       "      <td>72000</td>\n",
       "      <td>CNG</td>\n",
       "      <td>Manual</td>\n",
       "      <td>First</td>\n",
       "      <td>26.60</td>\n",
       "      <td>998.0</td>\n",
       "      <td>58.16</td>\n",
       "      <td>5.0</td>\n",
       "      <td>1.75</td>\n",
       "    </tr>\n",
       "    <tr>\n",
       "      <th>1</th>\n",
       "      <td>1</td>\n",
       "      <td>Hyundai Creta 1.6 CRDi SX Option</td>\n",
       "      <td>Pune</td>\n",
       "      <td>2015</td>\n",
       "      <td>41000</td>\n",
       "      <td>Diesel</td>\n",
       "      <td>Manual</td>\n",
       "      <td>First</td>\n",
       "      <td>19.67</td>\n",
       "      <td>1582.0</td>\n",
       "      <td>126.20</td>\n",
       "      <td>5.0</td>\n",
       "      <td>12.50</td>\n",
       "    </tr>\n",
       "    <tr>\n",
       "      <th>2</th>\n",
       "      <td>2</td>\n",
       "      <td>Honda Jazz V</td>\n",
       "      <td>Chennai</td>\n",
       "      <td>2011</td>\n",
       "      <td>46000</td>\n",
       "      <td>Petrol</td>\n",
       "      <td>Manual</td>\n",
       "      <td>First</td>\n",
       "      <td>18.20</td>\n",
       "      <td>1199.0</td>\n",
       "      <td>88.70</td>\n",
       "      <td>5.0</td>\n",
       "      <td>4.50</td>\n",
       "    </tr>\n",
       "    <tr>\n",
       "      <th>3</th>\n",
       "      <td>3</td>\n",
       "      <td>Maruti Ertiga VDI</td>\n",
       "      <td>Chennai</td>\n",
       "      <td>2012</td>\n",
       "      <td>87000</td>\n",
       "      <td>Diesel</td>\n",
       "      <td>Manual</td>\n",
       "      <td>First</td>\n",
       "      <td>20.77</td>\n",
       "      <td>1248.0</td>\n",
       "      <td>88.76</td>\n",
       "      <td>7.0</td>\n",
       "      <td>6.00</td>\n",
       "    </tr>\n",
       "    <tr>\n",
       "      <th>4</th>\n",
       "      <td>4</td>\n",
       "      <td>Audi A4 New 2.0 TDI Multitronic</td>\n",
       "      <td>Coimbatore</td>\n",
       "      <td>2013</td>\n",
       "      <td>40670</td>\n",
       "      <td>Diesel</td>\n",
       "      <td>Automatic</td>\n",
       "      <td>Second</td>\n",
       "      <td>15.20</td>\n",
       "      <td>1968.0</td>\n",
       "      <td>140.80</td>\n",
       "      <td>5.0</td>\n",
       "      <td>17.74</td>\n",
       "    </tr>\n",
       "  </tbody>\n",
       "</table>\n",
       "</div>"
      ],
      "text/plain": [
       "   S.No.                              Name    Location  Year  \\\n",
       "0      0            Maruti Wagon R LXI CNG      Mumbai  2010   \n",
       "1      1  Hyundai Creta 1.6 CRDi SX Option        Pune  2015   \n",
       "2      2                      Honda Jazz V     Chennai  2011   \n",
       "3      3                 Maruti Ertiga VDI     Chennai  2012   \n",
       "4      4   Audi A4 New 2.0 TDI Multitronic  Coimbatore  2013   \n",
       "\n",
       "   Kilometers_Driven Fuel_Type Transmission Owner_Type  Mileage  Engine  \\\n",
       "0              72000       CNG       Manual      First    26.60   998.0   \n",
       "1              41000    Diesel       Manual      First    19.67  1582.0   \n",
       "2              46000    Petrol       Manual      First    18.20  1199.0   \n",
       "3              87000    Diesel       Manual      First    20.77  1248.0   \n",
       "4              40670    Diesel    Automatic     Second    15.20  1968.0   \n",
       "\n",
       "    Power  Seats  Price  \n",
       "0   58.16    5.0   1.75  \n",
       "1  126.20    5.0  12.50  \n",
       "2   88.70    5.0   4.50  \n",
       "3   88.76    7.0   6.00  \n",
       "4  140.80    5.0  17.74  "
      ]
     },
     "execution_count": 17,
     "metadata": {},
     "output_type": "execute_result"
    }
   ],
   "source": [
    "UsedCar_df.head()"
   ]
  },
  {
   "cell_type": "markdown",
   "id": "9995a98e",
   "metadata": {},
   "source": [
    "### Handling Missing Values:"
   ]
  },
  {
   "cell_type": "code",
   "execution_count": 18,
   "id": "233349cb",
   "metadata": {},
   "outputs": [
    {
     "data": {
      "text/plain": [
       "S.No.                   0\n",
       "Name                    0\n",
       "Location                0\n",
       "Year                    0\n",
       "Kilometers_Driven       0\n",
       "Fuel_Type               0\n",
       "Transmission            0\n",
       "Owner_Type              0\n",
       "Mileage                 2\n",
       "Engine                 46\n",
       "Power                 175\n",
       "Seats                  53\n",
       "Price                1234\n",
       "dtype: int64"
      ]
     },
     "execution_count": 18,
     "metadata": {},
     "output_type": "execute_result"
    }
   ],
   "source": [
    "UsedCar_df.isnull().sum()"
   ]
  },
  {
   "cell_type": "code",
   "execution_count": 19,
   "id": "a52dfa99",
   "metadata": {},
   "outputs": [
    {
     "name": "stdout",
     "output_type": "stream",
     "text": [
      "18.141580471659083\n",
      "18.16\n",
      "0    17.0\n",
      "Name: Mileage, dtype: float64\n"
     ]
    }
   ],
   "source": [
    "Mileage_mean = UsedCar_df['Mileage'].mean()\n",
    "Mileage_median = UsedCar_df['Mileage'].median()\n",
    "Mileage_mode = UsedCar_df['Mileage'].mode()\n",
    "\n",
    "print(Mileage_mean)\n",
    "print(Mileage_median)\n",
    "print(Mileage_mode)"
   ]
  },
  {
   "cell_type": "markdown",
   "id": "5bc08eac",
   "metadata": {},
   "source": [
    "#### Observation:\n",
    "So we have 0 in Mileage looks like data entry error"
   ]
  },
  {
   "cell_type": "code",
   "execution_count": 20,
   "id": "330ba9ac",
   "metadata": {},
   "outputs": [],
   "source": [
    "#UsedCar_df['Mileage'].replace(0 , np.nan , inplace = True)"
   ]
  },
  {
   "cell_type": "code",
   "execution_count": 21,
   "id": "262f2259",
   "metadata": {},
   "outputs": [
    {
     "data": {
      "text/plain": [
       "14      0.0\n",
       "67      0.0\n",
       "79      0.0\n",
       "194     0.0\n",
       "229     0.0\n",
       "       ... \n",
       "6633    0.0\n",
       "6697    0.0\n",
       "6857    0.0\n",
       "6957    0.0\n",
       "7226    0.0\n",
       "Name: Mileage, Length: 81, dtype: float64"
      ]
     },
     "execution_count": 21,
     "metadata": {},
     "output_type": "execute_result"
    }
   ],
   "source": [
    "UsedCar_df.loc[UsedCar_df['Mileage'] == 0 , 'Mileage']"
   ]
  },
  {
   "cell_type": "markdown",
   "id": "b2207ad6",
   "metadata": {},
   "source": [
    "#### Observation:\n",
    "We have zero 81 times in Mileage feature so we have to replace 0's with nan. "
   ]
  },
  {
   "cell_type": "code",
   "execution_count": 22,
   "id": "376263fc",
   "metadata": {},
   "outputs": [],
   "source": [
    "UsedCar_df.loc[UsedCar_df['Mileage'] == 0 , 'Mileage'] = np.nan"
   ]
  },
  {
   "cell_type": "code",
   "execution_count": 23,
   "id": "2aee474f",
   "metadata": {},
   "outputs": [
    {
     "data": {
      "text/plain": [
       "83"
      ]
     },
     "execution_count": 23,
     "metadata": {},
     "output_type": "execute_result"
    }
   ],
   "source": [
    "#Number of nan\n",
    "\n",
    "UsedCar_df['Mileage'].isnull().sum()"
   ]
  },
  {
   "cell_type": "markdown",
   "id": "51c31c06",
   "metadata": {},
   "source": [
    "Beacause mean and median are alomost same so we can replace nan with anyone of the central tendency."
   ]
  },
  {
   "cell_type": "code",
   "execution_count": 24,
   "id": "1972b9b5",
   "metadata": {},
   "outputs": [],
   "source": [
    "#filling nun values with mean\n",
    "\n",
    "UsedCar_df['Mileage'].fillna(Mileage_mean , inplace = True)"
   ]
  },
  {
   "cell_type": "code",
   "execution_count": 25,
   "id": "fde6387c",
   "metadata": {},
   "outputs": [
    {
     "data": {
      "text/plain": [
       "0"
      ]
     },
     "execution_count": 25,
     "metadata": {},
     "output_type": "execute_result"
    }
   ],
   "source": [
    "#Check null values\n",
    "\n",
    "UsedCar_df['Mileage'].isnull().sum()"
   ]
  },
  {
   "cell_type": "code",
   "execution_count": 26,
   "id": "8d1687e4",
   "metadata": {},
   "outputs": [
    {
     "data": {
      "text/plain": [
       "array([ 5.,  7.,  8.,  4.,  6.,  2., nan, 10.,  9.,  0.])"
      ]
     },
     "execution_count": 26,
     "metadata": {},
     "output_type": "execute_result"
    }
   ],
   "source": [
    "UsedCar_df['Seats'].unique()"
   ]
  },
  {
   "cell_type": "code",
   "execution_count": 27,
   "id": "54940ad4",
   "metadata": {},
   "outputs": [
    {
     "data": {
      "text/plain": [
       "3999    0.0\n",
       "Name: Seats, dtype: float64"
      ]
     },
     "execution_count": 27,
     "metadata": {},
     "output_type": "execute_result"
    }
   ],
   "source": [
    "UsedCar_df.loc[UsedCar_df['Seats'] == 0 , 'Seats']"
   ]
  },
  {
   "cell_type": "markdown",
   "id": "7d1540ef",
   "metadata": {},
   "source": [
    "#### Observation:\n",
    "* their is some data entry error because we have 0 in seats feature.\n",
    "* Car seats can not be 0 right.\n",
    "* so we have to replace 0 with nan then with central tendancy."
   ]
  },
  {
   "cell_type": "code",
   "execution_count": 28,
   "id": "f8be731c",
   "metadata": {},
   "outputs": [],
   "source": [
    "#UsedCar_df['Seats'].fillna(value = np.nan , inplace = True)"
   ]
  },
  {
   "cell_type": "code",
   "execution_count": 29,
   "id": "719defb7",
   "metadata": {},
   "outputs": [],
   "source": [
    "UsedCar_df.loc[UsedCar_df['Seats'] == 0 , 'Seats'] = np.nan"
   ]
  },
  {
   "cell_type": "code",
   "execution_count": 30,
   "id": "5ad4d732",
   "metadata": {},
   "outputs": [
    {
     "data": {
      "text/plain": [
       "54"
      ]
     },
     "execution_count": 30,
     "metadata": {},
     "output_type": "execute_result"
    }
   ],
   "source": [
    "UsedCar_df['Seats'].isnull().sum()"
   ]
  },
  {
   "cell_type": "code",
   "execution_count": 31,
   "id": "fbe62c42",
   "metadata": {},
   "outputs": [
    {
     "data": {
      "text/plain": [
       "array([ 5.,  7.,  8.,  4.,  6.,  2., nan, 10.,  9.])"
      ]
     },
     "execution_count": 31,
     "metadata": {},
     "output_type": "execute_result"
    }
   ],
   "source": [
    "UsedCar_df['Seats'].unique()"
   ]
  },
  {
   "cell_type": "code",
   "execution_count": 32,
   "id": "d1feb5a9",
   "metadata": {},
   "outputs": [],
   "source": [
    "Seats_mean  = UsedCar_df['Seats'].mean()"
   ]
  },
  {
   "cell_type": "code",
   "execution_count": 33,
   "id": "c0a3fdfa",
   "metadata": {},
   "outputs": [],
   "source": [
    "#filling nun values with mean\n",
    "\n",
    "UsedCar_df['Seats'].fillna(Seats_mean , inplace = True)"
   ]
  },
  {
   "cell_type": "code",
   "execution_count": 34,
   "id": "c37d9b69",
   "metadata": {},
   "outputs": [
    {
     "data": {
      "text/plain": [
       "0"
      ]
     },
     "execution_count": 34,
     "metadata": {},
     "output_type": "execute_result"
    }
   ],
   "source": [
    "UsedCar_df['Seats'].isnull().sum()"
   ]
  },
  {
   "cell_type": "code",
   "execution_count": 35,
   "id": "44968af8",
   "metadata": {},
   "outputs": [
    {
     "data": {
      "text/plain": [
       "Series([], Name: Engine, dtype: float64)"
      ]
     },
     "execution_count": 35,
     "metadata": {},
     "output_type": "execute_result"
    }
   ],
   "source": [
    "UsedCar_df.loc[UsedCar_df['Engine'] == 0 , 'Engine']"
   ]
  },
  {
   "cell_type": "markdown",
   "id": "bd01d289",
   "metadata": {},
   "source": [
    "No 0 value"
   ]
  },
  {
   "cell_type": "code",
   "execution_count": 36,
   "id": "69687a1d",
   "metadata": {},
   "outputs": [],
   "source": [
    "Engine_median = UsedCar_df['Engine'].median()"
   ]
  },
  {
   "cell_type": "code",
   "execution_count": 37,
   "id": "a8557e55",
   "metadata": {},
   "outputs": [],
   "source": [
    "UsedCar_df['Engine'].fillna(Engine_median ,inplace = True)"
   ]
  },
  {
   "cell_type": "code",
   "execution_count": 38,
   "id": "cf2849ee",
   "metadata": {},
   "outputs": [
    {
     "data": {
      "text/plain": [
       "0"
      ]
     },
     "execution_count": 38,
     "metadata": {},
     "output_type": "execute_result"
    }
   ],
   "source": [
    "UsedCar_df['Engine'].isnull().sum()"
   ]
  },
  {
   "cell_type": "code",
   "execution_count": 39,
   "id": "1cd88c12",
   "metadata": {},
   "outputs": [
    {
     "data": {
      "text/plain": [
       "Series([], Name: Power, dtype: float64)"
      ]
     },
     "execution_count": 39,
     "metadata": {},
     "output_type": "execute_result"
    }
   ],
   "source": [
    "UsedCar_df.loc[UsedCar_df['Power'] == 0 , 'Power']"
   ]
  },
  {
   "cell_type": "markdown",
   "id": "deb6e8db",
   "metadata": {},
   "source": [
    "No 0 value"
   ]
  },
  {
   "cell_type": "code",
   "execution_count": 40,
   "id": "b2d29f1a",
   "metadata": {},
   "outputs": [
    {
     "data": {
      "text/plain": [
       "175"
      ]
     },
     "execution_count": 40,
     "metadata": {},
     "output_type": "execute_result"
    }
   ],
   "source": [
    "UsedCar_df['Power'].isnull().sum()"
   ]
  },
  {
   "cell_type": "code",
   "execution_count": 41,
   "id": "4ef16ce0",
   "metadata": {},
   "outputs": [],
   "source": [
    "Power_median = UsedCar_df['Power'].median()"
   ]
  },
  {
   "cell_type": "code",
   "execution_count": 42,
   "id": "ab24a609",
   "metadata": {},
   "outputs": [],
   "source": [
    "UsedCar_df['Power'].fillna(Power_median ,inplace = True)"
   ]
  },
  {
   "cell_type": "code",
   "execution_count": 43,
   "id": "b11b7bd6",
   "metadata": {},
   "outputs": [
    {
     "data": {
      "text/plain": [
       "0"
      ]
     },
     "execution_count": 43,
     "metadata": {},
     "output_type": "execute_result"
    }
   ],
   "source": [
    "UsedCar_df['Power'].isnull().sum()"
   ]
  },
  {
   "cell_type": "code",
   "execution_count": 44,
   "id": "819737ab",
   "metadata": {},
   "outputs": [
    {
     "data": {
      "text/plain": [
       "S.No.                   0\n",
       "Name                    0\n",
       "Location                0\n",
       "Year                    0\n",
       "Kilometers_Driven       0\n",
       "Fuel_Type               0\n",
       "Transmission            0\n",
       "Owner_Type              0\n",
       "Mileage                 0\n",
       "Engine                  0\n",
       "Power                   0\n",
       "Seats                   0\n",
       "Price                1234\n",
       "dtype: int64"
      ]
     },
     "execution_count": 44,
     "metadata": {},
     "output_type": "execute_result"
    }
   ],
   "source": [
    "UsedCar_df.isnull().sum()"
   ]
  },
  {
   "cell_type": "code",
   "execution_count": 45,
   "id": "0f0b28c8",
   "metadata": {},
   "outputs": [
    {
     "data": {
      "text/plain": [
       "Series([], Name: Price, dtype: float64)"
      ]
     },
     "execution_count": 45,
     "metadata": {},
     "output_type": "execute_result"
    }
   ],
   "source": [
    "UsedCar_df.loc[UsedCar_df['Price'] == 0 , 'Price']"
   ]
  },
  {
   "cell_type": "markdown",
   "id": "ec3bb82c",
   "metadata": {},
   "source": [
    "No 0 value that's good"
   ]
  },
  {
   "cell_type": "code",
   "execution_count": 46,
   "id": "f5487a43",
   "metadata": {},
   "outputs": [],
   "source": [
    "Price_mean = UsedCar_df['Price'].mean()"
   ]
  },
  {
   "cell_type": "code",
   "execution_count": 47,
   "id": "c316262d",
   "metadata": {},
   "outputs": [],
   "source": [
    "UsedCar_df['Price'].fillna(Price_mean , inplace = True)"
   ]
  },
  {
   "cell_type": "code",
   "execution_count": 48,
   "id": "c88c1475",
   "metadata": {},
   "outputs": [
    {
     "data": {
      "text/plain": [
       "0"
      ]
     },
     "execution_count": 48,
     "metadata": {},
     "output_type": "execute_result"
    }
   ],
   "source": [
    "UsedCar_df['Price'].isnull().sum()"
   ]
  },
  {
   "cell_type": "code",
   "execution_count": 49,
   "id": "c539f8fd",
   "metadata": {},
   "outputs": [
    {
     "data": {
      "text/plain": [
       "0"
      ]
     },
     "execution_count": 49,
     "metadata": {},
     "output_type": "execute_result"
    }
   ],
   "source": [
    "UsedCar_df['Price'].isnull().sum()"
   ]
  },
  {
   "cell_type": "code",
   "execution_count": 50,
   "id": "24c23f59",
   "metadata": {},
   "outputs": [
    {
     "data": {
      "text/plain": [
       "S.No.                0\n",
       "Name                 0\n",
       "Location             0\n",
       "Year                 0\n",
       "Kilometers_Driven    0\n",
       "Fuel_Type            0\n",
       "Transmission         0\n",
       "Owner_Type           0\n",
       "Mileage              0\n",
       "Engine               0\n",
       "Power                0\n",
       "Seats                0\n",
       "Price                0\n",
       "dtype: int64"
      ]
     },
     "execution_count": 50,
     "metadata": {},
     "output_type": "execute_result"
    }
   ],
   "source": [
    "UsedCar_df.isnull().sum()"
   ]
  },
  {
   "cell_type": "markdown",
   "id": "12877dc4",
   "metadata": {},
   "source": [
    "#### So we have successfully handled missing values for numerical features."
   ]
  },
  {
   "cell_type": "markdown",
   "id": "d5ed5c06",
   "metadata": {},
   "source": [
    "Note-\n",
    "UsedCar_df['Mileage'] = 0\n",
    "\n",
    "Do not do this it will change your entire feature to zero."
   ]
  },
  {
   "cell_type": "code",
   "execution_count": null,
   "id": "1eed5761",
   "metadata": {},
   "outputs": [],
   "source": []
  },
  {
   "cell_type": "code",
   "execution_count": null,
   "id": "aa45f510",
   "metadata": {},
   "outputs": [],
   "source": []
  },
  {
   "cell_type": "code",
   "execution_count": null,
   "id": "224e6a20",
   "metadata": {},
   "outputs": [],
   "source": []
  },
  {
   "cell_type": "code",
   "execution_count": 51,
   "id": "7a930049",
   "metadata": {},
   "outputs": [
    {
     "data": {
      "text/plain": [
       "S.No.                7253\n",
       "Name                 2041\n",
       "Location               11\n",
       "Year                   23\n",
       "Kilometers_Driven    3660\n",
       "Fuel_Type               5\n",
       "Transmission            2\n",
       "Owner_Type              4\n",
       "Mileage               438\n",
       "Engine                150\n",
       "Power                 383\n",
       "Seats                   9\n",
       "Price                1374\n",
       "dtype: int64"
      ]
     },
     "execution_count": 51,
     "metadata": {},
     "output_type": "execute_result"
    }
   ],
   "source": [
    "UsedCar_df.nunique()"
   ]
  },
  {
   "cell_type": "markdown",
   "id": "765fd7f7",
   "metadata": {},
   "source": [
    "#### Observation:\n",
    "\n",
    "We can get unique number of values for each feature."
   ]
  },
  {
   "cell_type": "code",
   "execution_count": 52,
   "id": "b6b8959e",
   "metadata": {},
   "outputs": [
    {
     "data": {
      "text/plain": [
       "array(['Mumbai', 'Pune', 'Chennai', 'Coimbatore', 'Hyderabad', 'Jaipur',\n",
       "       'Kochi', 'Kolkata', 'Delhi', 'Bangalore', 'Ahmedabad'],\n",
       "      dtype=object)"
      ]
     },
     "execution_count": 52,
     "metadata": {},
     "output_type": "execute_result"
    }
   ],
   "source": [
    "UsedCar_df['Location'].unique()"
   ]
  },
  {
   "cell_type": "code",
   "execution_count": 53,
   "id": "a231553c",
   "metadata": {},
   "outputs": [
    {
     "data": {
      "text/plain": [
       "array(['CNG', 'Diesel', 'Petrol', 'LPG', 'Electric'], dtype=object)"
      ]
     },
     "execution_count": 53,
     "metadata": {},
     "output_type": "execute_result"
    }
   ],
   "source": [
    "UsedCar_df['Fuel_Type'].unique()"
   ]
  },
  {
   "cell_type": "code",
   "execution_count": 54,
   "id": "62aa49a8",
   "metadata": {},
   "outputs": [
    {
     "data": {
      "text/plain": [
       "array(['First', 'Second', 'Fourth & Above', 'Third'], dtype=object)"
      ]
     },
     "execution_count": 54,
     "metadata": {},
     "output_type": "execute_result"
    }
   ],
   "source": [
    "UsedCar_df['Owner_Type'].unique()"
   ]
  },
  {
   "cell_type": "markdown",
   "id": "53401e88",
   "metadata": {},
   "source": [
    "#### Observation:\n",
    "    \n",
    "So their is no duplicate values for categorical features."
   ]
  },
  {
   "cell_type": "markdown",
   "id": "f6230363",
   "metadata": {},
   "source": [
    "### Data reduction\n",
    "\n",
    "Some columns or variables can be dropped if they do not add value to our analysis.\n",
    "\n",
    "In our dataset, the column 'S.No' have only ID values, assuming they don’t have any predictive power to predict the dependent variable i.e. price of the car."
   ]
  },
  {
   "cell_type": "code",
   "execution_count": 55,
   "id": "ee3a171c",
   "metadata": {},
   "outputs": [],
   "source": [
    "UsedCar_df = UsedCar_df.drop(['S.No.'] , axis = 1)"
   ]
  },
  {
   "cell_type": "code",
   "execution_count": 56,
   "id": "759c7598",
   "metadata": {},
   "outputs": [
    {
     "name": "stdout",
     "output_type": "stream",
     "text": [
      "<class 'pandas.core.frame.DataFrame'>\n",
      "RangeIndex: 7253 entries, 0 to 7252\n",
      "Data columns (total 12 columns):\n",
      " #   Column             Non-Null Count  Dtype  \n",
      "---  ------             --------------  -----  \n",
      " 0   Name               7253 non-null   object \n",
      " 1   Location           7253 non-null   object \n",
      " 2   Year               7253 non-null   int64  \n",
      " 3   Kilometers_Driven  7253 non-null   int64  \n",
      " 4   Fuel_Type          7253 non-null   object \n",
      " 5   Transmission       7253 non-null   object \n",
      " 6   Owner_Type         7253 non-null   object \n",
      " 7   Mileage            7253 non-null   float64\n",
      " 8   Engine             7253 non-null   float64\n",
      " 9   Power              7253 non-null   float64\n",
      " 10  Seats              7253 non-null   float64\n",
      " 11  Price              7253 non-null   float64\n",
      "dtypes: float64(5), int64(2), object(5)\n",
      "memory usage: 680.1+ KB\n"
     ]
    }
   ],
   "source": [
    "UsedCar_df.info()"
   ]
  },
  {
   "cell_type": "code",
   "execution_count": null,
   "id": "a4d51e72",
   "metadata": {},
   "outputs": [],
   "source": []
  },
  {
   "cell_type": "markdown",
   "id": "346cf423",
   "metadata": {},
   "source": [
    "### Feature Engineering"
   ]
  },
  {
   "cell_type": "markdown",
   "id": "950e5842",
   "metadata": {},
   "source": [
    "#### Feature creation\n",
    "\n",
    "We have 'Year' that is basically manufacturing price of the car so we can create new feature 'Car_age'\n",
    "because age of the car is a contributing factor to the car's price."
   ]
  },
  {
   "cell_type": "code",
   "execution_count": 57,
   "id": "296ad769",
   "metadata": {},
   "outputs": [],
   "source": [
    "from datetime import date\n",
    "\n",
    "UsedCar_df['Car_age'] = date.today().year - UsedCar_df['Year']"
   ]
  },
  {
   "cell_type": "code",
   "execution_count": 58,
   "id": "b7ea9dfb",
   "metadata": {},
   "outputs": [
    {
     "data": {
      "text/html": [
       "<div>\n",
       "<style scoped>\n",
       "    .dataframe tbody tr th:only-of-type {\n",
       "        vertical-align: middle;\n",
       "    }\n",
       "\n",
       "    .dataframe tbody tr th {\n",
       "        vertical-align: top;\n",
       "    }\n",
       "\n",
       "    .dataframe thead th {\n",
       "        text-align: right;\n",
       "    }\n",
       "</style>\n",
       "<table border=\"1\" class=\"dataframe\">\n",
       "  <thead>\n",
       "    <tr style=\"text-align: right;\">\n",
       "      <th></th>\n",
       "      <th>Name</th>\n",
       "      <th>Location</th>\n",
       "      <th>Year</th>\n",
       "      <th>Kilometers_Driven</th>\n",
       "      <th>Fuel_Type</th>\n",
       "      <th>Transmission</th>\n",
       "      <th>Owner_Type</th>\n",
       "      <th>Mileage</th>\n",
       "      <th>Engine</th>\n",
       "      <th>Power</th>\n",
       "      <th>Seats</th>\n",
       "      <th>Price</th>\n",
       "      <th>Car_age</th>\n",
       "    </tr>\n",
       "  </thead>\n",
       "  <tbody>\n",
       "    <tr>\n",
       "      <th>0</th>\n",
       "      <td>Maruti Wagon R LXI CNG</td>\n",
       "      <td>Mumbai</td>\n",
       "      <td>2010</td>\n",
       "      <td>72000</td>\n",
       "      <td>CNG</td>\n",
       "      <td>Manual</td>\n",
       "      <td>First</td>\n",
       "      <td>26.60</td>\n",
       "      <td>998.0</td>\n",
       "      <td>58.16</td>\n",
       "      <td>5.0</td>\n",
       "      <td>1.75</td>\n",
       "      <td>13</td>\n",
       "    </tr>\n",
       "    <tr>\n",
       "      <th>1</th>\n",
       "      <td>Hyundai Creta 1.6 CRDi SX Option</td>\n",
       "      <td>Pune</td>\n",
       "      <td>2015</td>\n",
       "      <td>41000</td>\n",
       "      <td>Diesel</td>\n",
       "      <td>Manual</td>\n",
       "      <td>First</td>\n",
       "      <td>19.67</td>\n",
       "      <td>1582.0</td>\n",
       "      <td>126.20</td>\n",
       "      <td>5.0</td>\n",
       "      <td>12.50</td>\n",
       "      <td>8</td>\n",
       "    </tr>\n",
       "    <tr>\n",
       "      <th>2</th>\n",
       "      <td>Honda Jazz V</td>\n",
       "      <td>Chennai</td>\n",
       "      <td>2011</td>\n",
       "      <td>46000</td>\n",
       "      <td>Petrol</td>\n",
       "      <td>Manual</td>\n",
       "      <td>First</td>\n",
       "      <td>18.20</td>\n",
       "      <td>1199.0</td>\n",
       "      <td>88.70</td>\n",
       "      <td>5.0</td>\n",
       "      <td>4.50</td>\n",
       "      <td>12</td>\n",
       "    </tr>\n",
       "    <tr>\n",
       "      <th>3</th>\n",
       "      <td>Maruti Ertiga VDI</td>\n",
       "      <td>Chennai</td>\n",
       "      <td>2012</td>\n",
       "      <td>87000</td>\n",
       "      <td>Diesel</td>\n",
       "      <td>Manual</td>\n",
       "      <td>First</td>\n",
       "      <td>20.77</td>\n",
       "      <td>1248.0</td>\n",
       "      <td>88.76</td>\n",
       "      <td>7.0</td>\n",
       "      <td>6.00</td>\n",
       "      <td>11</td>\n",
       "    </tr>\n",
       "    <tr>\n",
       "      <th>4</th>\n",
       "      <td>Audi A4 New 2.0 TDI Multitronic</td>\n",
       "      <td>Coimbatore</td>\n",
       "      <td>2013</td>\n",
       "      <td>40670</td>\n",
       "      <td>Diesel</td>\n",
       "      <td>Automatic</td>\n",
       "      <td>Second</td>\n",
       "      <td>15.20</td>\n",
       "      <td>1968.0</td>\n",
       "      <td>140.80</td>\n",
       "      <td>5.0</td>\n",
       "      <td>17.74</td>\n",
       "      <td>10</td>\n",
       "    </tr>\n",
       "  </tbody>\n",
       "</table>\n",
       "</div>"
      ],
      "text/plain": [
       "                               Name    Location  Year  Kilometers_Driven  \\\n",
       "0            Maruti Wagon R LXI CNG      Mumbai  2010              72000   \n",
       "1  Hyundai Creta 1.6 CRDi SX Option        Pune  2015              41000   \n",
       "2                      Honda Jazz V     Chennai  2011              46000   \n",
       "3                 Maruti Ertiga VDI     Chennai  2012              87000   \n",
       "4   Audi A4 New 2.0 TDI Multitronic  Coimbatore  2013              40670   \n",
       "\n",
       "  Fuel_Type Transmission Owner_Type  Mileage  Engine   Power  Seats  Price  \\\n",
       "0       CNG       Manual      First    26.60   998.0   58.16    5.0   1.75   \n",
       "1    Diesel       Manual      First    19.67  1582.0  126.20    5.0  12.50   \n",
       "2    Petrol       Manual      First    18.20  1199.0   88.70    5.0   4.50   \n",
       "3    Diesel       Manual      First    20.77  1248.0   88.76    7.0   6.00   \n",
       "4    Diesel    Automatic     Second    15.20  1968.0  140.80    5.0  17.74   \n",
       "\n",
       "   Car_age  \n",
       "0       13  \n",
       "1        8  \n",
       "2       12  \n",
       "3       11  \n",
       "4       10  "
      ]
     },
     "execution_count": 58,
     "metadata": {},
     "output_type": "execute_result"
    }
   ],
   "source": [
    "UsedCar_df.head()"
   ]
  },
  {
   "cell_type": "markdown",
   "id": "93ebb119",
   "metadata": {},
   "source": [
    "#### Feature split\n",
    "\n",
    "Since car names will not be great predictors of the price in our current data. But we can process this column to extract important information using brand and Model names.\n",
    "\n",
    "We can create new features like 'Brand' and 'Model' hy substracting from 'Name' feature. \n",
    "\n",
    "#Feature split on 'Name'"
   ]
  },
  {
   "cell_type": "code",
   "execution_count": 59,
   "id": "69b1e30f",
   "metadata": {},
   "outputs": [],
   "source": [
    "UsedCar_df['Brand'] = UsedCar_df.Name.str.split().str.get(0)"
   ]
  },
  {
   "cell_type": "code",
   "execution_count": 60,
   "id": "35c1e5ab",
   "metadata": {},
   "outputs": [],
   "source": [
    "UsedCar_df['Model'] = UsedCar_df.Name.str.split().str.get(1) + UsedCar_df.Name.str.split().str.get(2)"
   ]
  },
  {
   "cell_type": "code",
   "execution_count": 61,
   "id": "79eae778",
   "metadata": {
    "scrolled": false
   },
   "outputs": [
    {
     "data": {
      "text/html": [
       "<div>\n",
       "<style scoped>\n",
       "    .dataframe tbody tr th:only-of-type {\n",
       "        vertical-align: middle;\n",
       "    }\n",
       "\n",
       "    .dataframe tbody tr th {\n",
       "        vertical-align: top;\n",
       "    }\n",
       "\n",
       "    .dataframe thead th {\n",
       "        text-align: right;\n",
       "    }\n",
       "</style>\n",
       "<table border=\"1\" class=\"dataframe\">\n",
       "  <thead>\n",
       "    <tr style=\"text-align: right;\">\n",
       "      <th></th>\n",
       "      <th>Name</th>\n",
       "      <th>Brand</th>\n",
       "      <th>Model</th>\n",
       "    </tr>\n",
       "  </thead>\n",
       "  <tbody>\n",
       "    <tr>\n",
       "      <th>0</th>\n",
       "      <td>Maruti Wagon R LXI CNG</td>\n",
       "      <td>Maruti</td>\n",
       "      <td>WagonR</td>\n",
       "    </tr>\n",
       "    <tr>\n",
       "      <th>1</th>\n",
       "      <td>Hyundai Creta 1.6 CRDi SX Option</td>\n",
       "      <td>Hyundai</td>\n",
       "      <td>Creta1.6</td>\n",
       "    </tr>\n",
       "    <tr>\n",
       "      <th>2</th>\n",
       "      <td>Honda Jazz V</td>\n",
       "      <td>Honda</td>\n",
       "      <td>JazzV</td>\n",
       "    </tr>\n",
       "    <tr>\n",
       "      <th>3</th>\n",
       "      <td>Maruti Ertiga VDI</td>\n",
       "      <td>Maruti</td>\n",
       "      <td>ErtigaVDI</td>\n",
       "    </tr>\n",
       "    <tr>\n",
       "      <th>4</th>\n",
       "      <td>Audi A4 New 2.0 TDI Multitronic</td>\n",
       "      <td>Audi</td>\n",
       "      <td>A4New</td>\n",
       "    </tr>\n",
       "    <tr>\n",
       "      <th>...</th>\n",
       "      <td>...</td>\n",
       "      <td>...</td>\n",
       "      <td>...</td>\n",
       "    </tr>\n",
       "    <tr>\n",
       "      <th>7248</th>\n",
       "      <td>Volkswagen Vento Diesel Trendline</td>\n",
       "      <td>Volkswagen</td>\n",
       "      <td>VentoDiesel</td>\n",
       "    </tr>\n",
       "    <tr>\n",
       "      <th>7249</th>\n",
       "      <td>Volkswagen Polo GT TSI</td>\n",
       "      <td>Volkswagen</td>\n",
       "      <td>PoloGT</td>\n",
       "    </tr>\n",
       "    <tr>\n",
       "      <th>7250</th>\n",
       "      <td>Nissan Micra Diesel XV</td>\n",
       "      <td>Nissan</td>\n",
       "      <td>MicraDiesel</td>\n",
       "    </tr>\n",
       "    <tr>\n",
       "      <th>7251</th>\n",
       "      <td>Volkswagen Polo GT TSI</td>\n",
       "      <td>Volkswagen</td>\n",
       "      <td>PoloGT</td>\n",
       "    </tr>\n",
       "    <tr>\n",
       "      <th>7252</th>\n",
       "      <td>Mercedes-Benz E-Class 2009-2013 E 220 CDI Avan...</td>\n",
       "      <td>Mercedes-Benz</td>\n",
       "      <td>E-Class2009-2013</td>\n",
       "    </tr>\n",
       "  </tbody>\n",
       "</table>\n",
       "<p>7253 rows × 3 columns</p>\n",
       "</div>"
      ],
      "text/plain": [
       "                                                   Name          Brand  \\\n",
       "0                                Maruti Wagon R LXI CNG         Maruti   \n",
       "1                      Hyundai Creta 1.6 CRDi SX Option        Hyundai   \n",
       "2                                          Honda Jazz V          Honda   \n",
       "3                                     Maruti Ertiga VDI         Maruti   \n",
       "4                       Audi A4 New 2.0 TDI Multitronic           Audi   \n",
       "...                                                 ...            ...   \n",
       "7248                  Volkswagen Vento Diesel Trendline     Volkswagen   \n",
       "7249                             Volkswagen Polo GT TSI     Volkswagen   \n",
       "7250                             Nissan Micra Diesel XV         Nissan   \n",
       "7251                             Volkswagen Polo GT TSI     Volkswagen   \n",
       "7252  Mercedes-Benz E-Class 2009-2013 E 220 CDI Avan...  Mercedes-Benz   \n",
       "\n",
       "                 Model  \n",
       "0               WagonR  \n",
       "1             Creta1.6  \n",
       "2                JazzV  \n",
       "3            ErtigaVDI  \n",
       "4                A4New  \n",
       "...                ...  \n",
       "7248       VentoDiesel  \n",
       "7249            PoloGT  \n",
       "7250       MicraDiesel  \n",
       "7251            PoloGT  \n",
       "7252  E-Class2009-2013  \n",
       "\n",
       "[7253 rows x 3 columns]"
      ]
     },
     "execution_count": 61,
     "metadata": {},
     "output_type": "execute_result"
    }
   ],
   "source": [
    "UsedCar_df[['Name' , 'Brand' , 'Model']]"
   ]
  },
  {
   "cell_type": "code",
   "execution_count": 62,
   "id": "8ddf44b3",
   "metadata": {},
   "outputs": [
    {
     "data": {
      "text/html": [
       "<div>\n",
       "<style scoped>\n",
       "    .dataframe tbody tr th:only-of-type {\n",
       "        vertical-align: middle;\n",
       "    }\n",
       "\n",
       "    .dataframe tbody tr th {\n",
       "        vertical-align: top;\n",
       "    }\n",
       "\n",
       "    .dataframe thead th {\n",
       "        text-align: right;\n",
       "    }\n",
       "</style>\n",
       "<table border=\"1\" class=\"dataframe\">\n",
       "  <thead>\n",
       "    <tr style=\"text-align: right;\">\n",
       "      <th></th>\n",
       "      <th>Name</th>\n",
       "      <th>Location</th>\n",
       "      <th>Year</th>\n",
       "      <th>Kilometers_Driven</th>\n",
       "      <th>Fuel_Type</th>\n",
       "      <th>Transmission</th>\n",
       "      <th>Owner_Type</th>\n",
       "      <th>Mileage</th>\n",
       "      <th>Engine</th>\n",
       "      <th>Power</th>\n",
       "      <th>Seats</th>\n",
       "      <th>Price</th>\n",
       "      <th>Car_age</th>\n",
       "      <th>Brand</th>\n",
       "      <th>Model</th>\n",
       "    </tr>\n",
       "  </thead>\n",
       "  <tbody>\n",
       "    <tr>\n",
       "      <th>0</th>\n",
       "      <td>Maruti Wagon R LXI CNG</td>\n",
       "      <td>Mumbai</td>\n",
       "      <td>2010</td>\n",
       "      <td>72000</td>\n",
       "      <td>CNG</td>\n",
       "      <td>Manual</td>\n",
       "      <td>First</td>\n",
       "      <td>26.60</td>\n",
       "      <td>998.0</td>\n",
       "      <td>58.16</td>\n",
       "      <td>5.0</td>\n",
       "      <td>1.75</td>\n",
       "      <td>13</td>\n",
       "      <td>Maruti</td>\n",
       "      <td>WagonR</td>\n",
       "    </tr>\n",
       "    <tr>\n",
       "      <th>1</th>\n",
       "      <td>Hyundai Creta 1.6 CRDi SX Option</td>\n",
       "      <td>Pune</td>\n",
       "      <td>2015</td>\n",
       "      <td>41000</td>\n",
       "      <td>Diesel</td>\n",
       "      <td>Manual</td>\n",
       "      <td>First</td>\n",
       "      <td>19.67</td>\n",
       "      <td>1582.0</td>\n",
       "      <td>126.20</td>\n",
       "      <td>5.0</td>\n",
       "      <td>12.50</td>\n",
       "      <td>8</td>\n",
       "      <td>Hyundai</td>\n",
       "      <td>Creta1.6</td>\n",
       "    </tr>\n",
       "  </tbody>\n",
       "</table>\n",
       "</div>"
      ],
      "text/plain": [
       "                               Name Location  Year  Kilometers_Driven  \\\n",
       "0            Maruti Wagon R LXI CNG   Mumbai  2010              72000   \n",
       "1  Hyundai Creta 1.6 CRDi SX Option     Pune  2015              41000   \n",
       "\n",
       "  Fuel_Type Transmission Owner_Type  Mileage  Engine   Power  Seats  Price  \\\n",
       "0       CNG       Manual      First    26.60   998.0   58.16    5.0   1.75   \n",
       "1    Diesel       Manual      First    19.67  1582.0  126.20    5.0  12.50   \n",
       "\n",
       "   Car_age    Brand     Model  \n",
       "0       13   Maruti    WagonR  \n",
       "1        8  Hyundai  Creta1.6  "
      ]
     },
     "execution_count": 62,
     "metadata": {},
     "output_type": "execute_result"
    }
   ],
   "source": [
    "UsedCar_df.head(2)"
   ]
  },
  {
   "cell_type": "code",
   "execution_count": 63,
   "id": "1cb6b759",
   "metadata": {},
   "outputs": [
    {
     "name": "stdout",
     "output_type": "stream",
     "text": [
      "<class 'pandas.core.frame.DataFrame'>\n",
      "RangeIndex: 7253 entries, 0 to 7252\n",
      "Data columns (total 15 columns):\n",
      " #   Column             Non-Null Count  Dtype  \n",
      "---  ------             --------------  -----  \n",
      " 0   Name               7253 non-null   object \n",
      " 1   Location           7253 non-null   object \n",
      " 2   Year               7253 non-null   int64  \n",
      " 3   Kilometers_Driven  7253 non-null   int64  \n",
      " 4   Fuel_Type          7253 non-null   object \n",
      " 5   Transmission       7253 non-null   object \n",
      " 6   Owner_Type         7253 non-null   object \n",
      " 7   Mileage            7253 non-null   float64\n",
      " 8   Engine             7253 non-null   float64\n",
      " 9   Power              7253 non-null   float64\n",
      " 10  Seats              7253 non-null   float64\n",
      " 11  Price              7253 non-null   float64\n",
      " 12  Car_age            7253 non-null   int64  \n",
      " 13  Brand              7253 non-null   object \n",
      " 14  Model              7252 non-null   object \n",
      "dtypes: float64(5), int64(3), object(7)\n",
      "memory usage: 850.1+ KB\n"
     ]
    }
   ],
   "source": [
    "UsedCar_df.info()"
   ]
  },
  {
   "cell_type": "code",
   "execution_count": 64,
   "id": "ec42944d",
   "metadata": {},
   "outputs": [
    {
     "data": {
      "text/plain": [
       "Name                 0\n",
       "Location             0\n",
       "Year                 0\n",
       "Kilometers_Driven    0\n",
       "Fuel_Type            0\n",
       "Transmission         0\n",
       "Owner_Type           0\n",
       "Mileage              0\n",
       "Engine               0\n",
       "Power                0\n",
       "Seats                0\n",
       "Price                0\n",
       "Car_age              0\n",
       "Brand                0\n",
       "Model                1\n",
       "dtype: int64"
      ]
     },
     "execution_count": 64,
     "metadata": {},
     "output_type": "execute_result"
    }
   ],
   "source": [
    "UsedCar_df.isnull().sum()"
   ]
  },
  {
   "cell_type": "markdown",
   "id": "3262e13d",
   "metadata": {},
   "source": [
    "#### Observation:\n",
    "    \n",
    "1. After feature split all the columns looks good.\n",
    "2. For all the columns datatype is correct.\n",
    "3. Missing values have taken care for numerical features but we can see that the we have one null value for \n",
    "   'Model' feature"
   ]
  },
  {
   "cell_type": "markdown",
   "id": "59edbeda",
   "metadata": {},
   "source": [
    "print('Total number of unique brand:' , UsedCar_df['Brand'].nunique())\n",
    "\n",
    "print(UsedCar_df['Brand'].unique())\n",
    "\n",
    "#Total number of unique brand: 33\n",
    "#['Maruti' 'Hyundai' 'Honda' 'Audi' 'Nissan' 'Toyota' 'Volkswagen' 'Tata'\n",
    " 'Land' 'Mitsubishi' 'Renault' 'Mercedes-Benz' 'BMW' 'Mahindra'\n",
    " 'Ford' 'Porsche' 'Datsun' 'Jaguar' 'Volvo' 'Chevrolet' 'Skoda'\n",
    " 'Mini' 'Fiat' 'Jeep' 'Smart' 'Ambassador' 'Isuzu' 'ISUZU' 'Force'\n",
    " 'Bentley' 'Lamborghini' 'Hindustan' 'OpelCorsa']"
   ]
  },
  {
   "cell_type": "markdown",
   "id": "7bbe7a3a",
   "metadata": {},
   "source": [
    "#### Observation:\n",
    "    \n",
    "1. Data entry errors, and some variables may need data type conversion.\n",
    "2. The brand name ‘Isuzu’ ‘ISUZU’ and ‘Mini’ and ‘Land’ looks incorrect. This needs to be corrected"
   ]
  },
  {
   "cell_type": "code",
   "execution_count": 65,
   "id": "6668c7ed",
   "metadata": {},
   "outputs": [],
   "source": [
    "UsedCar_df['Brand'].replace({'ISUZU':'Isuzu' , 'Mini':'Mini Cooper' , 'Land':'Land Rover'} , inplace = True)"
   ]
  },
  {
   "cell_type": "code",
   "execution_count": 66,
   "id": "fafcf60c",
   "metadata": {},
   "outputs": [
    {
     "name": "stdout",
     "output_type": "stream",
     "text": [
      "Total number of unique brand: 32\n",
      "['Maruti' 'Hyundai' 'Honda' 'Audi' 'Nissan' 'Toyota' 'Volkswagen' 'Tata'\n",
      " 'Land Rover' 'Mitsubishi' 'Renault' 'Mercedes-Benz' 'BMW' 'Mahindra'\n",
      " 'Ford' 'Porsche' 'Datsun' 'Jaguar' 'Volvo' 'Chevrolet' 'Skoda'\n",
      " 'Mini Cooper' 'Fiat' 'Jeep' 'Smart' 'Ambassador' 'Isuzu' 'Force'\n",
      " 'Bentley' 'Lamborghini' 'Hindustan' 'OpelCorsa']\n"
     ]
    }
   ],
   "source": [
    "print('Total number of unique brand:' , UsedCar_df['Brand'].nunique())\n",
    "\n",
    "print(UsedCar_df['Brand'].unique())"
   ]
  },
  {
   "cell_type": "code",
   "execution_count": null,
   "id": "369b7a12",
   "metadata": {},
   "outputs": [],
   "source": []
  },
  {
   "cell_type": "markdown",
   "id": "28b970d1",
   "metadata": {},
   "source": [
    "### Statistic summary\n",
    "\n",
    "Statistics summary gives a high-level idea to identify whether the data has any outliers, data entry error, distribution of data such as the data is normally distributed or left/right skewed"
   ]
  },
  {
   "cell_type": "code",
   "execution_count": 67,
   "id": "c2c3a308",
   "metadata": {},
   "outputs": [
    {
     "data": {
      "text/html": [
       "<div>\n",
       "<style scoped>\n",
       "    .dataframe tbody tr th:only-of-type {\n",
       "        vertical-align: middle;\n",
       "    }\n",
       "\n",
       "    .dataframe tbody tr th {\n",
       "        vertical-align: top;\n",
       "    }\n",
       "\n",
       "    .dataframe thead th {\n",
       "        text-align: right;\n",
       "    }\n",
       "</style>\n",
       "<table border=\"1\" class=\"dataframe\">\n",
       "  <thead>\n",
       "    <tr style=\"text-align: right;\">\n",
       "      <th></th>\n",
       "      <th>count</th>\n",
       "      <th>mean</th>\n",
       "      <th>std</th>\n",
       "      <th>min</th>\n",
       "      <th>25%</th>\n",
       "      <th>50%</th>\n",
       "      <th>75%</th>\n",
       "      <th>max</th>\n",
       "    </tr>\n",
       "  </thead>\n",
       "  <tbody>\n",
       "    <tr>\n",
       "      <th>Year</th>\n",
       "      <td>7253.0</td>\n",
       "      <td>2013.365366</td>\n",
       "      <td>3.254421</td>\n",
       "      <td>1996.00</td>\n",
       "      <td>2011.00</td>\n",
       "      <td>2014.00</td>\n",
       "      <td>2016.000000</td>\n",
       "      <td>2019.00</td>\n",
       "    </tr>\n",
       "    <tr>\n",
       "      <th>Kilometers_Driven</th>\n",
       "      <td>7253.0</td>\n",
       "      <td>58699.063146</td>\n",
       "      <td>84427.720583</td>\n",
       "      <td>171.00</td>\n",
       "      <td>34000.00</td>\n",
       "      <td>53416.00</td>\n",
       "      <td>73000.000000</td>\n",
       "      <td>6500000.00</td>\n",
       "    </tr>\n",
       "    <tr>\n",
       "      <th>Mileage</th>\n",
       "      <td>7253.0</td>\n",
       "      <td>18.344182</td>\n",
       "      <td>4.134105</td>\n",
       "      <td>6.40</td>\n",
       "      <td>15.40</td>\n",
       "      <td>18.16</td>\n",
       "      <td>21.100000</td>\n",
       "      <td>33.54</td>\n",
       "    </tr>\n",
       "    <tr>\n",
       "      <th>Engine</th>\n",
       "      <td>7253.0</td>\n",
       "      <td>1615.789742</td>\n",
       "      <td>593.475257</td>\n",
       "      <td>72.00</td>\n",
       "      <td>1198.00</td>\n",
       "      <td>1493.00</td>\n",
       "      <td>1968.000000</td>\n",
       "      <td>5998.00</td>\n",
       "    </tr>\n",
       "    <tr>\n",
       "      <th>Power</th>\n",
       "      <td>7253.0</td>\n",
       "      <td>112.312448</td>\n",
       "      <td>52.922581</td>\n",
       "      <td>34.20</td>\n",
       "      <td>77.00</td>\n",
       "      <td>94.00</td>\n",
       "      <td>138.030000</td>\n",
       "      <td>616.00</td>\n",
       "    </tr>\n",
       "    <tr>\n",
       "      <th>Seats</th>\n",
       "      <td>7253.0</td>\n",
       "      <td>5.280456</td>\n",
       "      <td>0.806308</td>\n",
       "      <td>2.00</td>\n",
       "      <td>5.00</td>\n",
       "      <td>5.00</td>\n",
       "      <td>5.000000</td>\n",
       "      <td>10.00</td>\n",
       "    </tr>\n",
       "    <tr>\n",
       "      <th>Price</th>\n",
       "      <td>7253.0</td>\n",
       "      <td>9.479468</td>\n",
       "      <td>10.191695</td>\n",
       "      <td>0.44</td>\n",
       "      <td>3.85</td>\n",
       "      <td>6.75</td>\n",
       "      <td>9.479468</td>\n",
       "      <td>160.00</td>\n",
       "    </tr>\n",
       "    <tr>\n",
       "      <th>Car_age</th>\n",
       "      <td>7253.0</td>\n",
       "      <td>9.634634</td>\n",
       "      <td>3.254421</td>\n",
       "      <td>4.00</td>\n",
       "      <td>7.00</td>\n",
       "      <td>9.00</td>\n",
       "      <td>12.000000</td>\n",
       "      <td>27.00</td>\n",
       "    </tr>\n",
       "  </tbody>\n",
       "</table>\n",
       "</div>"
      ],
      "text/plain": [
       "                    count          mean           std      min       25%  \\\n",
       "Year               7253.0   2013.365366      3.254421  1996.00   2011.00   \n",
       "Kilometers_Driven  7253.0  58699.063146  84427.720583   171.00  34000.00   \n",
       "Mileage            7253.0     18.344182      4.134105     6.40     15.40   \n",
       "Engine             7253.0   1615.789742    593.475257    72.00   1198.00   \n",
       "Power              7253.0    112.312448     52.922581    34.20     77.00   \n",
       "Seats              7253.0      5.280456      0.806308     2.00      5.00   \n",
       "Price              7253.0      9.479468     10.191695     0.44      3.85   \n",
       "Car_age            7253.0      9.634634      3.254421     4.00      7.00   \n",
       "\n",
       "                        50%           75%         max  \n",
       "Year                2014.00   2016.000000     2019.00  \n",
       "Kilometers_Driven  53416.00  73000.000000  6500000.00  \n",
       "Mileage               18.16     21.100000       33.54  \n",
       "Engine              1493.00   1968.000000     5998.00  \n",
       "Power                 94.00    138.030000      616.00  \n",
       "Seats                  5.00      5.000000       10.00  \n",
       "Price                  6.75      9.479468      160.00  \n",
       "Car_age                9.00     12.000000       27.00  "
      ]
     },
     "execution_count": 67,
     "metadata": {},
     "output_type": "execute_result"
    }
   ],
   "source": [
    "UsedCar_df.describe().T"
   ]
  },
  {
   "cell_type": "markdown",
   "id": "67deeee9",
   "metadata": {},
   "source": [
    "#### Observation:\n",
    "    \n",
    "1. We can see that the year's range from 1996 to 2019 which shows that the used cars contain both new models and\n",
    "   new models cars.\n",
    "2. Average KM driven is ~58K but we can see that the huge difference between min and max valuse where max value is 650000 KM\n",
    "   which shows the evidence of outlier.\n",
    "3. Average seat in a car is 5. seat is an important feature in price contribution.\n",
    "4. Price is very high for used car which is 160K whereas average price for used cars is 9.5K.here may be an outlier or data \n",
    "   entry issue.\n",
    "   "
   ]
  },
  {
   "cell_type": "code",
   "execution_count": 68,
   "id": "5b7dcbab",
   "metadata": {},
   "outputs": [
    {
     "data": {
      "text/html": [
       "<div>\n",
       "<style scoped>\n",
       "    .dataframe tbody tr th:only-of-type {\n",
       "        vertical-align: middle;\n",
       "    }\n",
       "\n",
       "    .dataframe tbody tr th {\n",
       "        vertical-align: top;\n",
       "    }\n",
       "\n",
       "    .dataframe thead th {\n",
       "        text-align: right;\n",
       "    }\n",
       "</style>\n",
       "<table border=\"1\" class=\"dataframe\">\n",
       "  <thead>\n",
       "    <tr style=\"text-align: right;\">\n",
       "      <th></th>\n",
       "      <th>count</th>\n",
       "      <th>unique</th>\n",
       "      <th>top</th>\n",
       "      <th>freq</th>\n",
       "      <th>mean</th>\n",
       "      <th>std</th>\n",
       "      <th>min</th>\n",
       "      <th>25%</th>\n",
       "      <th>50%</th>\n",
       "      <th>75%</th>\n",
       "      <th>max</th>\n",
       "    </tr>\n",
       "  </thead>\n",
       "  <tbody>\n",
       "    <tr>\n",
       "      <th>Name</th>\n",
       "      <td>7253</td>\n",
       "      <td>2041</td>\n",
       "      <td>Mahindra XUV500 W8 2WD</td>\n",
       "      <td>55</td>\n",
       "      <td>NaN</td>\n",
       "      <td>NaN</td>\n",
       "      <td>NaN</td>\n",
       "      <td>NaN</td>\n",
       "      <td>NaN</td>\n",
       "      <td>NaN</td>\n",
       "      <td>NaN</td>\n",
       "    </tr>\n",
       "    <tr>\n",
       "      <th>Location</th>\n",
       "      <td>7253</td>\n",
       "      <td>11</td>\n",
       "      <td>Mumbai</td>\n",
       "      <td>949</td>\n",
       "      <td>NaN</td>\n",
       "      <td>NaN</td>\n",
       "      <td>NaN</td>\n",
       "      <td>NaN</td>\n",
       "      <td>NaN</td>\n",
       "      <td>NaN</td>\n",
       "      <td>NaN</td>\n",
       "    </tr>\n",
       "    <tr>\n",
       "      <th>Year</th>\n",
       "      <td>7253.0</td>\n",
       "      <td>NaN</td>\n",
       "      <td>NaN</td>\n",
       "      <td>NaN</td>\n",
       "      <td>2013.365366</td>\n",
       "      <td>3.254421</td>\n",
       "      <td>1996.0</td>\n",
       "      <td>2011.0</td>\n",
       "      <td>2014.0</td>\n",
       "      <td>2016.0</td>\n",
       "      <td>2019.0</td>\n",
       "    </tr>\n",
       "    <tr>\n",
       "      <th>Kilometers_Driven</th>\n",
       "      <td>7253.0</td>\n",
       "      <td>NaN</td>\n",
       "      <td>NaN</td>\n",
       "      <td>NaN</td>\n",
       "      <td>58699.063146</td>\n",
       "      <td>84427.720583</td>\n",
       "      <td>171.0</td>\n",
       "      <td>34000.0</td>\n",
       "      <td>53416.0</td>\n",
       "      <td>73000.0</td>\n",
       "      <td>6500000.0</td>\n",
       "    </tr>\n",
       "    <tr>\n",
       "      <th>Fuel_Type</th>\n",
       "      <td>7253</td>\n",
       "      <td>5</td>\n",
       "      <td>Diesel</td>\n",
       "      <td>3852</td>\n",
       "      <td>NaN</td>\n",
       "      <td>NaN</td>\n",
       "      <td>NaN</td>\n",
       "      <td>NaN</td>\n",
       "      <td>NaN</td>\n",
       "      <td>NaN</td>\n",
       "      <td>NaN</td>\n",
       "    </tr>\n",
       "    <tr>\n",
       "      <th>Transmission</th>\n",
       "      <td>7253</td>\n",
       "      <td>2</td>\n",
       "      <td>Manual</td>\n",
       "      <td>5204</td>\n",
       "      <td>NaN</td>\n",
       "      <td>NaN</td>\n",
       "      <td>NaN</td>\n",
       "      <td>NaN</td>\n",
       "      <td>NaN</td>\n",
       "      <td>NaN</td>\n",
       "      <td>NaN</td>\n",
       "    </tr>\n",
       "    <tr>\n",
       "      <th>Owner_Type</th>\n",
       "      <td>7253</td>\n",
       "      <td>4</td>\n",
       "      <td>First</td>\n",
       "      <td>5952</td>\n",
       "      <td>NaN</td>\n",
       "      <td>NaN</td>\n",
       "      <td>NaN</td>\n",
       "      <td>NaN</td>\n",
       "      <td>NaN</td>\n",
       "      <td>NaN</td>\n",
       "      <td>NaN</td>\n",
       "    </tr>\n",
       "    <tr>\n",
       "      <th>Mileage</th>\n",
       "      <td>7253.0</td>\n",
       "      <td>NaN</td>\n",
       "      <td>NaN</td>\n",
       "      <td>NaN</td>\n",
       "      <td>18.344182</td>\n",
       "      <td>4.134105</td>\n",
       "      <td>6.4</td>\n",
       "      <td>15.4</td>\n",
       "      <td>18.16</td>\n",
       "      <td>21.1</td>\n",
       "      <td>33.54</td>\n",
       "    </tr>\n",
       "    <tr>\n",
       "      <th>Engine</th>\n",
       "      <td>7253.0</td>\n",
       "      <td>NaN</td>\n",
       "      <td>NaN</td>\n",
       "      <td>NaN</td>\n",
       "      <td>1615.789742</td>\n",
       "      <td>593.475257</td>\n",
       "      <td>72.0</td>\n",
       "      <td>1198.0</td>\n",
       "      <td>1493.0</td>\n",
       "      <td>1968.0</td>\n",
       "      <td>5998.0</td>\n",
       "    </tr>\n",
       "    <tr>\n",
       "      <th>Power</th>\n",
       "      <td>7253.0</td>\n",
       "      <td>NaN</td>\n",
       "      <td>NaN</td>\n",
       "      <td>NaN</td>\n",
       "      <td>112.312448</td>\n",
       "      <td>52.922581</td>\n",
       "      <td>34.2</td>\n",
       "      <td>77.0</td>\n",
       "      <td>94.0</td>\n",
       "      <td>138.03</td>\n",
       "      <td>616.0</td>\n",
       "    </tr>\n",
       "    <tr>\n",
       "      <th>Seats</th>\n",
       "      <td>7253.0</td>\n",
       "      <td>NaN</td>\n",
       "      <td>NaN</td>\n",
       "      <td>NaN</td>\n",
       "      <td>5.280456</td>\n",
       "      <td>0.806308</td>\n",
       "      <td>2.0</td>\n",
       "      <td>5.0</td>\n",
       "      <td>5.0</td>\n",
       "      <td>5.0</td>\n",
       "      <td>10.0</td>\n",
       "    </tr>\n",
       "    <tr>\n",
       "      <th>Price</th>\n",
       "      <td>7253.0</td>\n",
       "      <td>NaN</td>\n",
       "      <td>NaN</td>\n",
       "      <td>NaN</td>\n",
       "      <td>9.479468</td>\n",
       "      <td>10.191695</td>\n",
       "      <td>0.44</td>\n",
       "      <td>3.85</td>\n",
       "      <td>6.75</td>\n",
       "      <td>9.479468</td>\n",
       "      <td>160.0</td>\n",
       "    </tr>\n",
       "    <tr>\n",
       "      <th>Car_age</th>\n",
       "      <td>7253.0</td>\n",
       "      <td>NaN</td>\n",
       "      <td>NaN</td>\n",
       "      <td>NaN</td>\n",
       "      <td>9.634634</td>\n",
       "      <td>3.254421</td>\n",
       "      <td>4.0</td>\n",
       "      <td>7.0</td>\n",
       "      <td>9.0</td>\n",
       "      <td>12.0</td>\n",
       "      <td>27.0</td>\n",
       "    </tr>\n",
       "    <tr>\n",
       "      <th>Brand</th>\n",
       "      <td>7253</td>\n",
       "      <td>32</td>\n",
       "      <td>Maruti</td>\n",
       "      <td>1444</td>\n",
       "      <td>NaN</td>\n",
       "      <td>NaN</td>\n",
       "      <td>NaN</td>\n",
       "      <td>NaN</td>\n",
       "      <td>NaN</td>\n",
       "      <td>NaN</td>\n",
       "      <td>NaN</td>\n",
       "    </tr>\n",
       "    <tr>\n",
       "      <th>Model</th>\n",
       "      <td>7252</td>\n",
       "      <td>726</td>\n",
       "      <td>SwiftDzire</td>\n",
       "      <td>189</td>\n",
       "      <td>NaN</td>\n",
       "      <td>NaN</td>\n",
       "      <td>NaN</td>\n",
       "      <td>NaN</td>\n",
       "      <td>NaN</td>\n",
       "      <td>NaN</td>\n",
       "      <td>NaN</td>\n",
       "    </tr>\n",
       "  </tbody>\n",
       "</table>\n",
       "</div>"
      ],
      "text/plain": [
       "                    count unique                     top  freq          mean  \\\n",
       "Name                 7253   2041  Mahindra XUV500 W8 2WD    55           NaN   \n",
       "Location             7253     11                  Mumbai   949           NaN   \n",
       "Year               7253.0    NaN                     NaN   NaN   2013.365366   \n",
       "Kilometers_Driven  7253.0    NaN                     NaN   NaN  58699.063146   \n",
       "Fuel_Type            7253      5                  Diesel  3852           NaN   \n",
       "Transmission         7253      2                  Manual  5204           NaN   \n",
       "Owner_Type           7253      4                   First  5952           NaN   \n",
       "Mileage            7253.0    NaN                     NaN   NaN     18.344182   \n",
       "Engine             7253.0    NaN                     NaN   NaN   1615.789742   \n",
       "Power              7253.0    NaN                     NaN   NaN    112.312448   \n",
       "Seats              7253.0    NaN                     NaN   NaN      5.280456   \n",
       "Price              7253.0    NaN                     NaN   NaN      9.479468   \n",
       "Car_age            7253.0    NaN                     NaN   NaN      9.634634   \n",
       "Brand                7253     32                  Maruti  1444           NaN   \n",
       "Model                7252    726              SwiftDzire   189           NaN   \n",
       "\n",
       "                            std     min      25%      50%       75%        max  \n",
       "Name                        NaN     NaN      NaN      NaN       NaN        NaN  \n",
       "Location                    NaN     NaN      NaN      NaN       NaN        NaN  \n",
       "Year                   3.254421  1996.0   2011.0   2014.0    2016.0     2019.0  \n",
       "Kilometers_Driven  84427.720583   171.0  34000.0  53416.0   73000.0  6500000.0  \n",
       "Fuel_Type                   NaN     NaN      NaN      NaN       NaN        NaN  \n",
       "Transmission                NaN     NaN      NaN      NaN       NaN        NaN  \n",
       "Owner_Type                  NaN     NaN      NaN      NaN       NaN        NaN  \n",
       "Mileage                4.134105     6.4     15.4    18.16      21.1      33.54  \n",
       "Engine               593.475257    72.0   1198.0   1493.0    1968.0     5998.0  \n",
       "Power                 52.922581    34.2     77.0     94.0    138.03      616.0  \n",
       "Seats                  0.806308     2.0      5.0      5.0       5.0       10.0  \n",
       "Price                 10.191695    0.44     3.85     6.75  9.479468      160.0  \n",
       "Car_age                3.254421     4.0      7.0      9.0      12.0       27.0  \n",
       "Brand                       NaN     NaN      NaN      NaN       NaN        NaN  \n",
       "Model                       NaN     NaN      NaN      NaN       NaN        NaN  "
      ]
     },
     "execution_count": 68,
     "metadata": {},
     "output_type": "execute_result"
    }
   ],
   "source": [
    "UsedCar_df.describe(include = 'all').T"
   ]
  },
  {
   "cell_type": "code",
   "execution_count": null,
   "id": "5f2950b2",
   "metadata": {},
   "outputs": [],
   "source": []
  },
  {
   "cell_type": "markdown",
   "id": "816e5a58",
   "metadata": {},
   "source": [
    "### Treating Outliers"
   ]
  },
  {
   "cell_type": "code",
   "execution_count": 178,
   "id": "61529908",
   "metadata": {},
   "outputs": [
    {
     "data": {
      "text/plain": [
       "<Axes: xlabel='Car_age'>"
      ]
     },
     "execution_count": 178,
     "metadata": {},
     "output_type": "execute_result"
    },
    {
     "data": {
      "image/png": "[encoded data removed]",
      "text/plain": [
       "<Figure size 1800x1800 with 9 Axes>"
      ]
     },
     "metadata": {},
     "output_type": "display_data"
    }
   ],
   "source": [
    "figure ,axes = plt.subplots(3,3 , figsize =(18,18))\n",
    "\n",
    "sns.boxplot(ax = axes[0,0] ,x = 'Price' , data = UsedCar_df)\n",
    "sns.boxplot(ax = axes[0,1] , x = 'Kilometers_Driven' , data = UsedCar_df)\n",
    "sns.boxplot(ax = axes[0,2] , x = 'Seats' , data = UsedCar_df)\n",
    "sns.boxplot(ax = axes[1,0] , x = 'Mileage' , data = UsedCar_df)\n",
    "sns.boxplot(ax = axes[1,1] , x = 'Engine' , data = UsedCar_df)\n",
    "sns.boxplot(ax = axes[1,2] , x = 'Power' , data = UsedCar_df)\n",
    "sns.boxplot(ax = axes[2,0] , x = 'Car_age' , data = UsedCar_df)"
   ]
  },
  {
   "cell_type": "markdown",
   "id": "4d1adfcc",
   "metadata": {},
   "source": [
    "### first method:"
   ]
  },
  {
   "cell_type": "code",
   "execution_count": 135,
   "id": "fca720fb",
   "metadata": {},
   "outputs": [
    {
     "name": "stdout",
     "output_type": "stream",
     "text": [
      "Q1: 3.85\n",
      "Q3: 9.47946835022429\n",
      "IQR: 5.62946835022429\n"
     ]
    }
   ],
   "source": [
    "Q1 = np.percentile(UsedCar_df['Price'] , 25)\n",
    "Q3 = np.percentile(UsedCar_df['Price'] , 75)\n",
    "print('Q1:',Q1)\n",
    "print('Q3:',Q3)\n",
    "\n",
    "IQR =Q3-Q1\n",
    "print('IQR:',IQR)"
   ]
  },
  {
   "cell_type": "code",
   "execution_count": 136,
   "id": "4458f18f",
   "metadata": {},
   "outputs": [
    {
     "name": "stdout",
     "output_type": "stream",
     "text": [
      "upper_bound: 17.923670875560724\n",
      "lower_bound: -4.594202525336435\n"
     ]
    }
   ],
   "source": [
    "upper_bound = Q3+1.5*IQR\n",
    "lower_bound = Q1-1.5*IQR\n",
    "\n",
    "print('upper_bound:',upper_bound)\n",
    "print('lower_bound:',lower_bound)"
   ]
  },
  {
   "cell_type": "raw",
   "id": "961fec62",
   "metadata": {},
   "source": [
    "\n",
    "#UsedCar_df[UsedCar_df['Price']>upper_bound]\n"
   ]
  },
  {
   "cell_type": "markdown",
   "id": "b7c232c5",
   "metadata": {},
   "source": [
    "### Using function:"
   ]
  },
  {
   "cell_type": "code",
   "execution_count": 162,
   "id": "4e959ace",
   "metadata": {},
   "outputs": [],
   "source": [
    "def find_outliers_IQR(UsedCar_df):\n",
    "    Q1 = UsedCar_df.quantile(0.25)\n",
    "    Q3 = UsedCar_df.quantile(0.75)\n",
    "    \n",
    "    IQR = Q3-Q1\n",
    "    \n",
    "    upper_bound = Q3+1.5*IQR\n",
    "    lower_bound = Q1-1.5*IQR\n",
    "    \n",
    "    outliers = UsedCar_df[((UsedCar_df>upper_bound) | (UsedCar_df<lower_bound))]\n",
    "    \n",
    "    return outliers "
   ]
  },
  {
   "cell_type": "code",
   "execution_count": 165,
   "id": "1b917146",
   "metadata": {},
   "outputs": [
    {
     "name": "stdout",
     "output_type": "stream",
     "text": [
      "number of outliers:  807\n",
      "max outlier value:  160.0\n",
      "min outlier value:  17.95\n"
     ]
    }
   ],
   "source": [
    "outliers = find_outliers_IQR(UsedCar_df['Price'])\n",
    "\n",
    "print('number of outliers: ', str(len(outliers)))\n",
    "print('max outlier value: ', str(outliers.max()))\n",
    "print('min outlier value: ', str(outliers.min()))"
   ]
  },
  {
   "cell_type": "code",
   "execution_count": 166,
   "id": "ec75b6ec",
   "metadata": {},
   "outputs": [
    {
     "name": "stdout",
     "output_type": "stream",
     "text": [
      "number of outliers:  258\n",
      "max outlier value:  6500000\n",
      "min outlier value:  131503\n"
     ]
    }
   ],
   "source": [
    "outliers = find_outliers_IQR(UsedCar_df['Kilometers_Driven'])\n",
    "\n",
    "print('number of outliers: ', str(len(outliers)))\n",
    "print('max outlier value: ', str(outliers.max()))\n",
    "print('min outlier value: ', str(outliers.min()))\n"
   ]
  },
  {
   "cell_type": "code",
   "execution_count": 179,
   "id": "d2a8bb6e",
   "metadata": {},
   "outputs": [
    {
     "name": "stdout",
     "output_type": "stream",
     "text": [
      "number of outliers:  1206\n",
      "max outlier value:  10.0\n",
      "min outlier value:  2.0\n"
     ]
    }
   ],
   "source": [
    "outliers = find_outliers_IQR(UsedCar_df['Seats'])\n",
    "\n",
    "print('number of outliers: ', str(len(outliers)))\n",
    "print('max outlier value: ', str(outliers.max()))\n",
    "print('min outlier value: ', str(outliers.min()))"
   ]
  },
  {
   "cell_type": "code",
   "execution_count": 180,
   "id": "d35b1a25",
   "metadata": {},
   "outputs": [
    {
     "name": "stdout",
     "output_type": "stream",
     "text": [
      "number of outliers:  19\n",
      "max outlier value:  33.54\n",
      "min outlier value:  6.4\n"
     ]
    }
   ],
   "source": [
    "outliers = find_outliers_IQR(UsedCar_df['Mileage'])\n",
    "\n",
    "print('number of outliers: ', str(len(outliers)))\n",
    "print('max outlier value: ', str(outliers.max()))\n",
    "print('min outlier value: ', str(outliers.min()))"
   ]
  },
  {
   "cell_type": "code",
   "execution_count": 181,
   "id": "dee1a258",
   "metadata": {},
   "outputs": [
    {
     "name": "stdout",
     "output_type": "stream",
     "text": [
      "number of outliers:  65\n",
      "max outlier value:  5998.0\n",
      "min outlier value:  3197.0\n"
     ]
    }
   ],
   "source": [
    "outliers = find_outliers_IQR(UsedCar_df['Engine'])\n",
    "\n",
    "print('number of outliers: ', str(len(outliers)))\n",
    "print('max outlier value: ', str(outliers.max()))\n",
    "print('min outlier value: ', str(outliers.min()))"
   ]
  },
  {
   "cell_type": "code",
   "execution_count": 182,
   "id": "0d93e8fa",
   "metadata": {},
   "outputs": [
    {
     "name": "stdout",
     "output_type": "stream",
     "text": [
      "number of outliers:  274\n",
      "max outlier value:  616.0\n",
      "min outlier value:  231.1\n"
     ]
    }
   ],
   "source": [
    "outliers = find_outliers_IQR(UsedCar_df['Power'])\n",
    "\n",
    "print('number of outliers: ', str(len(outliers)))\n",
    "print('max outlier value: ', str(outliers.max()))\n",
    "print('min outlier value: ', str(outliers.min()))"
   ]
  },
  {
   "cell_type": "code",
   "execution_count": 183,
   "id": "4030ad17",
   "metadata": {},
   "outputs": [
    {
     "name": "stdout",
     "output_type": "stream",
     "text": [
      "number of outliers:  58\n",
      "max outlier value:  27\n",
      "min outlier value:  20\n"
     ]
    }
   ],
   "source": [
    "outliers = find_outliers_IQR(UsedCar_df['Car_age'])\n",
    "\n",
    "print('number of outliers: ', str(len(outliers)))\n",
    "print('max outlier value: ', str(outliers.max()))\n",
    "print('min outlier value: ', str(outliers.min()))"
   ]
  },
  {
   "cell_type": "markdown",
   "id": "3ccd2532",
   "metadata": {},
   "source": [
    "#### Observation:\n",
    "    \n",
    "*  \n",
    "*\n",
    "*\n",
    "*\n",
    "*\n",
    "*\n",
    "*"
   ]
  },
  {
   "cell_type": "code",
   "execution_count": null,
   "id": "4ead824b",
   "metadata": {},
   "outputs": [],
   "source": []
  },
  {
   "cell_type": "code",
   "execution_count": null,
   "id": "a3448a8f",
   "metadata": {},
   "outputs": [],
   "source": []
  },
  {
   "cell_type": "code",
   "execution_count": null,
   "id": "77ce4ea6",
   "metadata": {},
   "outputs": [],
   "source": []
  },
  {
   "cell_type": "code",
   "execution_count": null,
   "id": "cf2df9a6",
   "metadata": {},
   "outputs": [],
   "source": []
  },
  {
   "cell_type": "markdown",
   "id": "ce00222a",
   "metadata": {},
   "source": [
    "#### Lets separate Numerical and categorical features "
   ]
  },
  {
   "cell_type": "code",
   "execution_count": 69,
   "id": "582d033d",
   "metadata": {},
   "outputs": [
    {
     "name": "stdout",
     "output_type": "stream",
     "text": [
      "Number of categorical features:\n",
      "7\n",
      "Categorical features:\n",
      "Index(['Name', 'Location', 'Fuel_Type', 'Transmission', 'Owner_Type', 'Brand',\n",
      "       'Model'],\n",
      "      dtype='object')\n"
     ]
    }
   ],
   "source": [
    "#Categorical features\n",
    "\n",
    "Cat_features = UsedCar_df.select_dtypes(include = ['object']).columns\n",
    "\n",
    "print('Number of categorical features:')\n",
    "print(Cat_features.nunique())\n",
    "\n",
    "print('Categorical features:')\n",
    "print(Cat_features)"
   ]
  },
  {
   "cell_type": "code",
   "execution_count": 70,
   "id": "edc43e99",
   "metadata": {
    "scrolled": true
   },
   "outputs": [
    {
     "name": "stdout",
     "output_type": "stream",
     "text": [
      "Number of numerical features:\n",
      "8\n",
      "Numerical features:\n",
      "Index(['Year', 'Kilometers_Driven', 'Mileage', 'Engine', 'Power', 'Seats',\n",
      "       'Price', 'Car_age'],\n",
      "      dtype='object')\n"
     ]
    }
   ],
   "source": [
    "#Numerical features\n",
    "\n",
    "Num_features = UsedCar_df.select_dtypes(include = np.number).columns\n",
    "\n",
    "print('Number of numerical features:')\n",
    "print(Num_features.nunique())\n",
    "\n",
    "print('Numerical features:')\n",
    "print(Num_features)"
   ]
  },
  {
   "cell_type": "markdown",
   "id": "bc947813",
   "metadata": {},
   "source": [
    "#### Observation:\n",
    "    \n",
    "1. Categorical features = 7\n",
    "2. Numerical features = 8"
   ]
  },
  {
   "cell_type": "code",
   "execution_count": 192,
   "id": "476c1cb7",
   "metadata": {
    "collapsed": true
   },
   "outputs": [
    {
     "data": {
      "text/html": [
       "<div>\n",
       "<style scoped>\n",
       "    .dataframe tbody tr th:only-of-type {\n",
       "        vertical-align: middle;\n",
       "    }\n",
       "\n",
       "    .dataframe tbody tr th {\n",
       "        vertical-align: top;\n",
       "    }\n",
       "\n",
       "    .dataframe thead th {\n",
       "        text-align: right;\n",
       "    }\n",
       "</style>\n",
       "<table border=\"1\" class=\"dataframe\">\n",
       "  <thead>\n",
       "    <tr style=\"text-align: right;\">\n",
       "      <th></th>\n",
       "      <th>Year</th>\n",
       "      <th>Kilometers_Driven</th>\n",
       "      <th>Mileage</th>\n",
       "      <th>Engine</th>\n",
       "      <th>Power</th>\n",
       "      <th>Seats</th>\n",
       "      <th>Price</th>\n",
       "      <th>Car_age</th>\n",
       "    </tr>\n",
       "  </thead>\n",
       "  <tbody>\n",
       "    <tr>\n",
       "      <th>0</th>\n",
       "      <td>2010</td>\n",
       "      <td>72000</td>\n",
       "      <td>26.60</td>\n",
       "      <td>998.0</td>\n",
       "      <td>58.16</td>\n",
       "      <td>5.0</td>\n",
       "      <td>1.750000</td>\n",
       "      <td>13</td>\n",
       "    </tr>\n",
       "    <tr>\n",
       "      <th>1</th>\n",
       "      <td>2015</td>\n",
       "      <td>41000</td>\n",
       "      <td>19.67</td>\n",
       "      <td>1582.0</td>\n",
       "      <td>126.20</td>\n",
       "      <td>5.0</td>\n",
       "      <td>12.500000</td>\n",
       "      <td>8</td>\n",
       "    </tr>\n",
       "    <tr>\n",
       "      <th>2</th>\n",
       "      <td>2011</td>\n",
       "      <td>46000</td>\n",
       "      <td>18.20</td>\n",
       "      <td>1199.0</td>\n",
       "      <td>88.70</td>\n",
       "      <td>5.0</td>\n",
       "      <td>4.500000</td>\n",
       "      <td>12</td>\n",
       "    </tr>\n",
       "    <tr>\n",
       "      <th>3</th>\n",
       "      <td>2012</td>\n",
       "      <td>87000</td>\n",
       "      <td>20.77</td>\n",
       "      <td>1248.0</td>\n",
       "      <td>88.76</td>\n",
       "      <td>7.0</td>\n",
       "      <td>6.000000</td>\n",
       "      <td>11</td>\n",
       "    </tr>\n",
       "    <tr>\n",
       "      <th>4</th>\n",
       "      <td>2013</td>\n",
       "      <td>40670</td>\n",
       "      <td>15.20</td>\n",
       "      <td>1968.0</td>\n",
       "      <td>140.80</td>\n",
       "      <td>5.0</td>\n",
       "      <td>17.740000</td>\n",
       "      <td>10</td>\n",
       "    </tr>\n",
       "    <tr>\n",
       "      <th>...</th>\n",
       "      <td>...</td>\n",
       "      <td>...</td>\n",
       "      <td>...</td>\n",
       "      <td>...</td>\n",
       "      <td>...</td>\n",
       "      <td>...</td>\n",
       "      <td>...</td>\n",
       "      <td>...</td>\n",
       "    </tr>\n",
       "    <tr>\n",
       "      <th>7248</th>\n",
       "      <td>2011</td>\n",
       "      <td>89411</td>\n",
       "      <td>20.54</td>\n",
       "      <td>1598.0</td>\n",
       "      <td>103.60</td>\n",
       "      <td>5.0</td>\n",
       "      <td>9.479468</td>\n",
       "      <td>12</td>\n",
       "    </tr>\n",
       "    <tr>\n",
       "      <th>7249</th>\n",
       "      <td>2015</td>\n",
       "      <td>59000</td>\n",
       "      <td>17.21</td>\n",
       "      <td>1197.0</td>\n",
       "      <td>103.60</td>\n",
       "      <td>5.0</td>\n",
       "      <td>9.479468</td>\n",
       "      <td>8</td>\n",
       "    </tr>\n",
       "    <tr>\n",
       "      <th>7250</th>\n",
       "      <td>2012</td>\n",
       "      <td>28000</td>\n",
       "      <td>23.08</td>\n",
       "      <td>1461.0</td>\n",
       "      <td>63.10</td>\n",
       "      <td>5.0</td>\n",
       "      <td>9.479468</td>\n",
       "      <td>11</td>\n",
       "    </tr>\n",
       "    <tr>\n",
       "      <th>7251</th>\n",
       "      <td>2013</td>\n",
       "      <td>52262</td>\n",
       "      <td>17.20</td>\n",
       "      <td>1197.0</td>\n",
       "      <td>103.60</td>\n",
       "      <td>5.0</td>\n",
       "      <td>9.479468</td>\n",
       "      <td>10</td>\n",
       "    </tr>\n",
       "    <tr>\n",
       "      <th>7252</th>\n",
       "      <td>2014</td>\n",
       "      <td>72443</td>\n",
       "      <td>10.00</td>\n",
       "      <td>2148.0</td>\n",
       "      <td>170.00</td>\n",
       "      <td>5.0</td>\n",
       "      <td>9.479468</td>\n",
       "      <td>9</td>\n",
       "    </tr>\n",
       "  </tbody>\n",
       "</table>\n",
       "<p>7253 rows × 8 columns</p>\n",
       "</div>"
      ],
      "text/plain": [
       "      Year  Kilometers_Driven  Mileage  Engine   Power  Seats      Price  \\\n",
       "0     2010              72000    26.60   998.0   58.16    5.0   1.750000   \n",
       "1     2015              41000    19.67  1582.0  126.20    5.0  12.500000   \n",
       "2     2011              46000    18.20  1199.0   88.70    5.0   4.500000   \n",
       "3     2012              87000    20.77  1248.0   88.76    7.0   6.000000   \n",
       "4     2013              40670    15.20  1968.0  140.80    5.0  17.740000   \n",
       "...    ...                ...      ...     ...     ...    ...        ...   \n",
       "7248  2011              89411    20.54  1598.0  103.60    5.0   9.479468   \n",
       "7249  2015              59000    17.21  1197.0  103.60    5.0   9.479468   \n",
       "7250  2012              28000    23.08  1461.0   63.10    5.0   9.479468   \n",
       "7251  2013              52262    17.20  1197.0  103.60    5.0   9.479468   \n",
       "7252  2014              72443    10.00  2148.0  170.00    5.0   9.479468   \n",
       "\n",
       "      Car_age  \n",
       "0          13  \n",
       "1           8  \n",
       "2          12  \n",
       "3          11  \n",
       "4          10  \n",
       "...       ...  \n",
       "7248       12  \n",
       "7249        8  \n",
       "7250       11  \n",
       "7251       10  \n",
       "7252        9  \n",
       "\n",
       "[7253 rows x 8 columns]"
      ]
     },
     "execution_count": 192,
     "metadata": {},
     "output_type": "execute_result"
    }
   ],
   "source": [
    "Usedcar_df_num_features = UsedCar_df.select_dtypes(include=np.number)\n",
    "\n",
    "Usedcar_df_num_features"
   ]
  },
  {
   "cell_type": "code",
   "execution_count": 191,
   "id": "474ab681",
   "metadata": {
    "collapsed": true
   },
   "outputs": [
    {
     "data": {
      "text/html": [
       "<div>\n",
       "<style scoped>\n",
       "    .dataframe tbody tr th:only-of-type {\n",
       "        vertical-align: middle;\n",
       "    }\n",
       "\n",
       "    .dataframe tbody tr th {\n",
       "        vertical-align: top;\n",
       "    }\n",
       "\n",
       "    .dataframe thead th {\n",
       "        text-align: right;\n",
       "    }\n",
       "</style>\n",
       "<table border=\"1\" class=\"dataframe\">\n",
       "  <thead>\n",
       "    <tr style=\"text-align: right;\">\n",
       "      <th></th>\n",
       "      <th>Name</th>\n",
       "      <th>Location</th>\n",
       "      <th>Fuel_Type</th>\n",
       "      <th>Transmission</th>\n",
       "      <th>Owner_Type</th>\n",
       "      <th>Brand</th>\n",
       "      <th>Model</th>\n",
       "    </tr>\n",
       "  </thead>\n",
       "  <tbody>\n",
       "    <tr>\n",
       "      <th>0</th>\n",
       "      <td>Maruti Wagon R LXI CNG</td>\n",
       "      <td>Mumbai</td>\n",
       "      <td>CNG</td>\n",
       "      <td>Manual</td>\n",
       "      <td>First</td>\n",
       "      <td>Maruti</td>\n",
       "      <td>WagonR</td>\n",
       "    </tr>\n",
       "    <tr>\n",
       "      <th>1</th>\n",
       "      <td>Hyundai Creta 1.6 CRDi SX Option</td>\n",
       "      <td>Pune</td>\n",
       "      <td>Diesel</td>\n",
       "      <td>Manual</td>\n",
       "      <td>First</td>\n",
       "      <td>Hyundai</td>\n",
       "      <td>Creta1.6</td>\n",
       "    </tr>\n",
       "    <tr>\n",
       "      <th>2</th>\n",
       "      <td>Honda Jazz V</td>\n",
       "      <td>Chennai</td>\n",
       "      <td>Petrol</td>\n",
       "      <td>Manual</td>\n",
       "      <td>First</td>\n",
       "      <td>Honda</td>\n",
       "      <td>JazzV</td>\n",
       "    </tr>\n",
       "    <tr>\n",
       "      <th>3</th>\n",
       "      <td>Maruti Ertiga VDI</td>\n",
       "      <td>Chennai</td>\n",
       "      <td>Diesel</td>\n",
       "      <td>Manual</td>\n",
       "      <td>First</td>\n",
       "      <td>Maruti</td>\n",
       "      <td>ErtigaVDI</td>\n",
       "    </tr>\n",
       "    <tr>\n",
       "      <th>4</th>\n",
       "      <td>Audi A4 New 2.0 TDI Multitronic</td>\n",
       "      <td>Coimbatore</td>\n",
       "      <td>Diesel</td>\n",
       "      <td>Automatic</td>\n",
       "      <td>Second</td>\n",
       "      <td>Audi</td>\n",
       "      <td>A4New</td>\n",
       "    </tr>\n",
       "    <tr>\n",
       "      <th>...</th>\n",
       "      <td>...</td>\n",
       "      <td>...</td>\n",
       "      <td>...</td>\n",
       "      <td>...</td>\n",
       "      <td>...</td>\n",
       "      <td>...</td>\n",
       "      <td>...</td>\n",
       "    </tr>\n",
       "    <tr>\n",
       "      <th>7248</th>\n",
       "      <td>Volkswagen Vento Diesel Trendline</td>\n",
       "      <td>Hyderabad</td>\n",
       "      <td>Diesel</td>\n",
       "      <td>Manual</td>\n",
       "      <td>First</td>\n",
       "      <td>Volkswagen</td>\n",
       "      <td>VentoDiesel</td>\n",
       "    </tr>\n",
       "    <tr>\n",
       "      <th>7249</th>\n",
       "      <td>Volkswagen Polo GT TSI</td>\n",
       "      <td>Mumbai</td>\n",
       "      <td>Petrol</td>\n",
       "      <td>Automatic</td>\n",
       "      <td>First</td>\n",
       "      <td>Volkswagen</td>\n",
       "      <td>PoloGT</td>\n",
       "    </tr>\n",
       "    <tr>\n",
       "      <th>7250</th>\n",
       "      <td>Nissan Micra Diesel XV</td>\n",
       "      <td>Kolkata</td>\n",
       "      <td>Diesel</td>\n",
       "      <td>Manual</td>\n",
       "      <td>First</td>\n",
       "      <td>Nissan</td>\n",
       "      <td>MicraDiesel</td>\n",
       "    </tr>\n",
       "    <tr>\n",
       "      <th>7251</th>\n",
       "      <td>Volkswagen Polo GT TSI</td>\n",
       "      <td>Pune</td>\n",
       "      <td>Petrol</td>\n",
       "      <td>Automatic</td>\n",
       "      <td>Third</td>\n",
       "      <td>Volkswagen</td>\n",
       "      <td>PoloGT</td>\n",
       "    </tr>\n",
       "    <tr>\n",
       "      <th>7252</th>\n",
       "      <td>Mercedes-Benz E-Class 2009-2013 E 220 CDI Avan...</td>\n",
       "      <td>Kochi</td>\n",
       "      <td>Diesel</td>\n",
       "      <td>Automatic</td>\n",
       "      <td>First</td>\n",
       "      <td>Mercedes-Benz</td>\n",
       "      <td>E-Class2009-2013</td>\n",
       "    </tr>\n",
       "  </tbody>\n",
       "</table>\n",
       "<p>7253 rows × 7 columns</p>\n",
       "</div>"
      ],
      "text/plain": [
       "                                                   Name    Location Fuel_Type  \\\n",
       "0                                Maruti Wagon R LXI CNG      Mumbai       CNG   \n",
       "1                      Hyundai Creta 1.6 CRDi SX Option        Pune    Diesel   \n",
       "2                                          Honda Jazz V     Chennai    Petrol   \n",
       "3                                     Maruti Ertiga VDI     Chennai    Diesel   \n",
       "4                       Audi A4 New 2.0 TDI Multitronic  Coimbatore    Diesel   \n",
       "...                                                 ...         ...       ...   \n",
       "7248                  Volkswagen Vento Diesel Trendline   Hyderabad    Diesel   \n",
       "7249                             Volkswagen Polo GT TSI      Mumbai    Petrol   \n",
       "7250                             Nissan Micra Diesel XV     Kolkata    Diesel   \n",
       "7251                             Volkswagen Polo GT TSI        Pune    Petrol   \n",
       "7252  Mercedes-Benz E-Class 2009-2013 E 220 CDI Avan...       Kochi    Diesel   \n",
       "\n",
       "     Transmission Owner_Type          Brand             Model  \n",
       "0          Manual      First         Maruti            WagonR  \n",
       "1          Manual      First        Hyundai          Creta1.6  \n",
       "2          Manual      First          Honda             JazzV  \n",
       "3          Manual      First         Maruti         ErtigaVDI  \n",
       "4       Automatic     Second           Audi             A4New  \n",
       "...           ...        ...            ...               ...  \n",
       "7248       Manual      First     Volkswagen       VentoDiesel  \n",
       "7249    Automatic      First     Volkswagen            PoloGT  \n",
       "7250       Manual      First         Nissan       MicraDiesel  \n",
       "7251    Automatic      Third     Volkswagen            PoloGT  \n",
       "7252    Automatic      First  Mercedes-Benz  E-Class2009-2013  \n",
       "\n",
       "[7253 rows x 7 columns]"
      ]
     },
     "execution_count": 191,
     "metadata": {},
     "output_type": "execute_result"
    }
   ],
   "source": [
    "Usedcar_df_cat_features = UsedCar_df.select_dtypes(include=['object'])\n",
    "\n",
    "Usedcar_df_cat_features"
   ]
  },
  {
   "cell_type": "markdown",
   "id": "7fb130c5",
   "metadata": {},
   "source": [
    "### Univariate Analysis\n",
    "\n",
    "Analyzing/visualizing the dataset by taking one variable at a time:\n",
    "\n",
    "1. Univariate analysis can be done for both Categorical and Numerical variables.\n",
    "2. Categorical variables can be visualized using a Count plot, Bar Chart, Pie Plot, etc.\n",
    "3. Numerical Variables can be visualized using Histogram, Box Plot, Density Plot, etc.\n",
    "\n",
    "* In our dataset, we have done a Univariate analysis using Histogram and  Box Plot for continuous Variables.\n",
    "* A histogram and box plot is used to show the pattern of the variables, as some variables have skewness and outliers."
   ]
  },
  {
   "cell_type": "code",
   "execution_count": 71,
   "id": "e073c470",
   "metadata": {},
   "outputs": [
    {
     "data": {
      "text/plain": [
       "Index(['Year', 'Kilometers_Driven', 'Mileage', 'Engine', 'Power', 'Seats',\n",
       "       'Price', 'Car_age'],\n",
       "      dtype='object')"
      ]
     },
     "execution_count": 71,
     "metadata": {},
     "output_type": "execute_result"
    }
   ],
   "source": [
    "Num_features"
   ]
  },
  {
   "cell_type": "code",
   "execution_count": 72,
   "id": "2ce74065",
   "metadata": {
    "scrolled": false
   },
   "outputs": [
    {
     "name": "stdout",
     "output_type": "stream",
     "text": [
      "Year\n",
      "skew: -0.84\n"
     ]
    },
    {
     "data": {
      "image/png": "[encoded data removed]",
      "text/plain": [
       "<Figure size 640x480 with 1 Axes>"
      ]
     },
     "metadata": {},
     "output_type": "display_data"
    },
    {
     "name": "stdout",
     "output_type": "stream",
     "text": [
      "Kilometers_Driven\n",
      "skew: 61.58\n"
     ]
    },
    {
     "data": {
      "image/png": "[encoded data removed]",
      "text/plain": [
       "<Figure size 640x480 with 1 Axes>"
      ]
     },
     "metadata": {},
     "output_type": "display_data"
    },
    {
     "name": "stdout",
     "output_type": "stream",
     "text": [
      "Mileage\n",
      "skew: 0.21\n"
     ]
    },
    {
     "data": {
      "image/png": "[encoded data removed]",
      "text/plain": [
       "<Figure size 640x480 with 1 Axes>"
      ]
     },
     "metadata": {},
     "output_type": "display_data"
    },
    {
     "name": "stdout",
     "output_type": "stream",
     "text": [
      "Engine\n",
      "skew: 1.42\n"
     ]
    },
    {
     "data": {
      "image/png": "[encoded data removed]",
      "text/plain": [
       "<Figure size 640x480 with 1 Axes>"
      ]
     },
     "metadata": {},
     "output_type": "display_data"
    },
    {
     "name": "stdout",
     "output_type": "stream",
     "text": [
      "Power\n",
      "skew: 2.0\n"
     ]
    },
    {
     "data": {
      "image/png": "[encoded data removed]",
      "text/plain": [
       "<Figure size 640x480 with 1 Axes>"
      ]
     },
     "metadata": {},
     "output_type": "display_data"
    },
    {
     "name": "stdout",
     "output_type": "stream",
     "text": [
      "Seats\n",
      "skew: 1.96\n"
     ]
    },
    {
     "data": {
      "image/png": "[encoded data removed]",
      "text/plain": [
       "<Figure size 640x480 with 1 Axes>"
      ]
     },
     "metadata": {},
     "output_type": "display_data"
    },
    {
     "name": "stdout",
     "output_type": "stream",
     "text": [
      "Price\n",
      "skew: 3.66\n"
     ]
    },
    {
     "data": {
      "image/png": "[encoded data removed]",
      "text/plain": [
       "<Figure size 640x480 with 1 Axes>"
      ]
     },
     "metadata": {},
     "output_type": "display_data"
    },
    {
     "name": "stdout",
     "output_type": "stream",
     "text": [
      "Car_age\n",
      "skew: 0.84\n"
     ]
    },
    {
     "data": {
      "image/png": "[encoded data removed]",
      "text/plain": [
       "<Figure size 640x480 with 1 Axes>"
      ]
     },
     "metadata": {},
     "output_type": "display_data"
    }
   ],
   "source": [
    "for col in Num_features:\n",
    "    print(col)\n",
    "    print('skew:' , round(UsedCar_df[col].skew() ,2))\n",
    "\n",
    "    plt.figure()\n",
    "    sns.distplot(UsedCar_df[col])\n",
    "    plt.show()"
   ]
  },
  {
   "cell_type": "markdown",
   "id": "d01afd23",
   "metadata": {},
   "source": [
    "#### Observation:\n",
    "    \n",
    "All the numerical features have skewness so we just don't reduce skewness from all the columns \n",
    "first check correlation of features with target feature which is Price."
   ]
  },
  {
   "cell_type": "code",
   "execution_count": 73,
   "id": "3a7eba23",
   "metadata": {},
   "outputs": [
    {
     "data": {
      "image/png": "[encoded data removed]",
      "text/plain": [
       "<Figure size 640x480 with 2 Axes>"
      ]
     },
     "metadata": {},
     "output_type": "display_data"
    }
   ],
   "source": [
    "#Check Correlation between features\n",
    "\n",
    "sns.heatmap(UsedCar_df.corr(),annot = True)\n",
    "plt.show()"
   ]
  },
  {
   "cell_type": "markdown",
   "id": "ff38d8b5",
   "metadata": {},
   "source": [
    "#### Observation:\n",
    "    \n",
    "* Price has good correlation with year,Mileage,Engine,Power and car_age variabel\n",
    "  but bad correlation with Kilometers_Driven and seats.\n",
    "* so we have to transform or reduce skewness from Kilometers_Driven and seats "
   ]
  },
  {
   "cell_type": "markdown",
   "id": "1479188b",
   "metadata": {},
   "source": [
    "#### Handling skewness"
   ]
  },
  {
   "cell_type": "markdown",
   "id": "1a37cd5a",
   "metadata": {},
   "source": [
    "#### Handling right skewness\n",
    "\n",
    "* log transformation\n",
    "* Root Transformation - \n",
    "square root transformation\n",
    " and Cube root transformatoin\n",
    "* reciprocals transformation"
   ]
  },
  {
   "cell_type": "code",
   "execution_count": 74,
   "id": "65083e65",
   "metadata": {},
   "outputs": [],
   "source": [
    "#log transformation for Kilometers_Driven\n",
    "\n",
    "log_kilometers_Driven = np.log(UsedCar_df['Kilometers_Driven'])"
   ]
  },
  {
   "cell_type": "code",
   "execution_count": 75,
   "id": "1bf28f12",
   "metadata": {
    "scrolled": true
   },
   "outputs": [
    {
     "data": {
      "text/plain": [
       "-1.298771488065216"
      ]
     },
     "execution_count": 75,
     "metadata": {},
     "output_type": "execute_result"
    }
   ],
   "source": [
    "log_kilometers_Driven.skew()"
   ]
  },
  {
   "cell_type": "code",
   "execution_count": 76,
   "id": "52a20bbc",
   "metadata": {},
   "outputs": [
    {
     "data": {
      "text/plain": [
       "<Axes: xlabel='Kilometers_Driven', ylabel='Density'>"
      ]
     },
     "execution_count": 76,
     "metadata": {},
     "output_type": "execute_result"
    },
    {
     "data": {
      "image/png": "[encoded data removed]",
      "text/plain": [
       "<Figure size 640x480 with 1 Axes>"
      ]
     },
     "metadata": {},
     "output_type": "display_data"
    }
   ],
   "source": [
    "sns.distplot(log_kilometers_Driven , hist = True)"
   ]
  },
  {
   "cell_type": "code",
   "execution_count": 77,
   "id": "8cd9d939",
   "metadata": {},
   "outputs": [],
   "source": [
    "#Root transformation\n",
    "\n",
    "sqrt_kilometers_driven = np.sqrt(UsedCar_df['Kilometers_Driven'])"
   ]
  },
  {
   "cell_type": "code",
   "execution_count": 78,
   "id": "86eac0b9",
   "metadata": {},
   "outputs": [
    {
     "data": {
      "text/plain": [
       "4.258743885144229"
      ]
     },
     "execution_count": 78,
     "metadata": {},
     "output_type": "execute_result"
    }
   ],
   "source": [
    "sqrt_kilometers_driven.skew()"
   ]
  },
  {
   "cell_type": "code",
   "execution_count": 79,
   "id": "84dac7f9",
   "metadata": {},
   "outputs": [
    {
     "data": {
      "text/plain": [
       "<Axes: xlabel='Kilometers_Driven', ylabel='Density'>"
      ]
     },
     "execution_count": 79,
     "metadata": {},
     "output_type": "execute_result"
    },
    {
     "data": {
      "image/png": "[encoded data removed]",
      "text/plain": [
       "<Figure size 640x480 with 1 Axes>"
      ]
     },
     "metadata": {},
     "output_type": "display_data"
    }
   ],
   "source": [
    "sns.distplot(sqrt_kilometers_driven , hist = True)"
   ]
  },
  {
   "cell_type": "code",
   "execution_count": 80,
   "id": "222e8b34",
   "metadata": {},
   "outputs": [],
   "source": [
    "cube_root_kilometers = np.cbrt(UsedCar_df['Kilometers_Driven'])"
   ]
  },
  {
   "cell_type": "code",
   "execution_count": 81,
   "id": "6ec8a5fd",
   "metadata": {},
   "outputs": [
    {
     "data": {
      "text/plain": [
       "0.8091854769170451"
      ]
     },
     "execution_count": 81,
     "metadata": {},
     "output_type": "execute_result"
    }
   ],
   "source": [
    "cube_root_kilometers.skew()"
   ]
  },
  {
   "cell_type": "code",
   "execution_count": 82,
   "id": "5a5a491e",
   "metadata": {},
   "outputs": [
    {
     "data": {
      "text/plain": [
       "<Axes: xlabel='Kilometers_Driven', ylabel='Density'>"
      ]
     },
     "execution_count": 82,
     "metadata": {},
     "output_type": "execute_result"
    },
    {
     "data": {
      "image/png": "[encoded data removed]",
      "text/plain": [
       "<Figure size 640x480 with 1 Axes>"
      ]
     },
     "metadata": {},
     "output_type": "display_data"
    }
   ],
   "source": [
    "sns.distplot(cube_root_kilometers , hist = True)"
   ]
  },
  {
   "cell_type": "markdown",
   "id": "bc178dcb",
   "metadata": {},
   "source": [
    "#### Observation:  Kilometers_driven\n",
    "   \n",
    "After applying multiple skewness technique we can see that the cube root transformation gives us more moderately skewed data."
   ]
  },
  {
   "cell_type": "code",
   "execution_count": 83,
   "id": "1c1f6c08",
   "metadata": {},
   "outputs": [],
   "source": [
    "#log transformation for Seats\n",
    "\n",
    "log_seats = np.log(UsedCar_df['Seats'])"
   ]
  },
  {
   "cell_type": "code",
   "execution_count": 84,
   "id": "2e483bee",
   "metadata": {},
   "outputs": [
    {
     "data": {
      "text/plain": [
       "0.864628447046855"
      ]
     },
     "execution_count": 84,
     "metadata": {},
     "output_type": "execute_result"
    }
   ],
   "source": [
    "log_seats.skew()"
   ]
  },
  {
   "cell_type": "code",
   "execution_count": 85,
   "id": "1d019502",
   "metadata": {},
   "outputs": [
    {
     "data": {
      "text/plain": [
       "<Axes: xlabel='Seats', ylabel='Density'>"
      ]
     },
     "execution_count": 85,
     "metadata": {},
     "output_type": "execute_result"
    },
    {
     "data": {
      "image/png": "[encoded data removed]",
      "text/plain": [
       "<Figure size 640x480 with 1 Axes>"
      ]
     },
     "metadata": {},
     "output_type": "display_data"
    }
   ],
   "source": [
    "sns.distplot(log_seats ,hist = True)"
   ]
  },
  {
   "cell_type": "markdown",
   "id": "068fb1ab",
   "metadata": {},
   "source": [
    "#### Observation: Seats\n",
    "So we have successfully handle the skewness for seats from 1.96 to 0.86"
   ]
  },
  {
   "cell_type": "markdown",
   "id": "d8438f71",
   "metadata": {},
   "source": [
    "#### Note\n",
    "\n",
    "  It's giving nan because log transformation doesn't work whenever their is nan.\n",
    "  so for that we have to convert nan to 0.01 or 0.001."
   ]
  },
  {
   "cell_type": "code",
   "execution_count": null,
   "id": "cfbc7bc9",
   "metadata": {},
   "outputs": [],
   "source": []
  },
  {
   "cell_type": "markdown",
   "id": "01b3bb44",
   "metadata": {},
   "source": [
    "#### categorical variables are being visualized using a count plot. Categorical variables provide the pattern of factors influencing car price"
   ]
  },
  {
   "cell_type": "code",
   "execution_count": 86,
   "id": "7b596305",
   "metadata": {},
   "outputs": [
    {
     "data": {
      "text/plain": [
       "Index(['Name', 'Location', 'Fuel_Type', 'Transmission', 'Owner_Type', 'Brand',\n",
       "       'Model'],\n",
       "      dtype='object')"
      ]
     },
     "execution_count": 86,
     "metadata": {},
     "output_type": "execute_result"
    }
   ],
   "source": [
    "#Categorical features\n",
    "\n",
    "Cat_features"
   ]
  },
  {
   "cell_type": "code",
   "execution_count": 87,
   "id": "3795b7ed",
   "metadata": {},
   "outputs": [
    {
     "data": {
      "image/png": "[encoded data removed]",
      "text/plain": [
       "<Figure size 1800x1800 with 9 Axes>"
      ]
     },
     "metadata": {},
     "output_type": "display_data"
    }
   ],
   "source": [
    "figure ,axes = plt.subplots(3,3 , figsize =(18,18))\n",
    "sns.countplot(ax = axes[0,0],x = 'Fuel_Type', data = UsedCar_df , order = UsedCar_df['Fuel_Type'].value_counts().index , color = 'blue')\n",
    "\n",
    "sns.countplot(ax= axes[0,1],x = 'Location', data = UsedCar_df , order = UsedCar_df['Location'].head(6).value_counts().index , color = 'blue')\n",
    "\n",
    "sns.countplot(ax = axes[0,2],x = 'Transmission', data = UsedCar_df , order = UsedCar_df['Transmission'].value_counts().index , color = 'blue')\n",
    "\n",
    "sns.countplot(ax= axes[1,0],x = 'Owner_Type', data = UsedCar_df , order = UsedCar_df['Owner_Type'].value_counts().index , color = 'blue')\n",
    "\n",
    "sns.countplot(ax= axes[1,1],x = 'Brand', data = UsedCar_df , order = UsedCar_df['Brand'].head(5).value_counts().index , color = 'blue')\n",
    "\n",
    "sns.countplot(ax= axes[1,2],x = 'Model', data = UsedCar_df , order = UsedCar_df['Model'].head(5).value_counts().index , color = 'blue')\n",
    "\n",
    "sns.countplot(ax= axes[2,0],x = 'Mileage', data = UsedCar_df , order = UsedCar_df['Mileage'].head(5).value_counts().index , color = 'blue')\n",
    "\n",
    "sns.countplot(ax= axes[2,1],x = 'Engine', data = UsedCar_df , order = UsedCar_df['Engine'].head(5).value_counts().index , color = 'blue')\n",
    "\n",
    "sns.countplot(ax= axes[2,2],x = 'Power', data = UsedCar_df , order = UsedCar_df['Power'].head(5).value_counts().index , color = 'blue')\n",
    "\n",
    "plt.show()"
   ]
  },
  {
   "cell_type": "markdown",
   "id": "ba0c8014",
   "metadata": {},
   "source": [
    "#### Observation:\n",
    "    \n",
    "* We can see that the customers are buying large number of diesel cars followed by petrol cars.\n",
    "* Location - Mumbai follwed by hyderabad then coimbatore\n",
    "* In terms of transmission large number of buyers prefer mannual cars over automatic cars.\n",
    "* People prefer buying first hand car over second hand.\n",
    "* Maruti is the most demand car follwed by hyundai.\n",
    "* Customers are buying WagonR most of the time.\n",
    "* In terms of Engine people buying - 1248cc."
   ]
  },
  {
   "cell_type": "markdown",
   "id": "69dfa82f",
   "metadata": {},
   "source": [
    "### Bivariate Analysis\n",
    "\n",
    "Bivariate Analysis helps to understand how variables are related to each other and the relationship between dependent and independent variables present in the dataset."
   ]
  },
  {
   "cell_type": "code",
   "execution_count": 88,
   "id": "3c10f219",
   "metadata": {
    "scrolled": false
   },
   "outputs": [
    {
     "data": {
      "image/png": "[encoded data removed]",
      "text/plain": [
       "<Figure size 1800x1600 with 6 Axes>"
      ]
     },
     "metadata": {},
     "output_type": "display_data"
    }
   ],
   "source": [
    "#A bar plot can be used to show the relationship between Categorical variables and continuous variables\n",
    "\n",
    "\n",
    "fig, axarr = plt.subplots(2,3 ,figsize=(18,16))\n",
    "\n",
    "UsedCar_df.groupby('Location')['Price'].mean().sort_values(ascending=False).plot.bar(ax= axarr[0,0],fontsize=12)\n",
    "\n",
    "UsedCar_df.groupby('Fuel_Type')['Price'].mean().sort_values(ascending=False).plot.bar(ax= axarr[0,1] ,fontsize=12)\n",
    "\n",
    "UsedCar_df.groupby('Transmission')['Price'].mean().sort_values(ascending=False).plot.bar(ax= axarr[0,2] ,fontsize=12)\n",
    "\n",
    "UsedCar_df.groupby('Brand')['Price'].mean().head(5).sort_values(ascending=False).plot.bar(ax= axarr[1,0] ,fontsize=12)\n",
    "\n",
    "UsedCar_df.groupby('Model')['Price'].mean().head(5).sort_values(ascending=False).plot.bar(ax= axarr[1,1] ,fontsize=12)\n",
    "\n",
    "UsedCar_df.groupby('Owner_Type')['Price'].mean().sort_values(ascending=False).plot.bar(ax= axarr[1,2] ,fontsize=12)\n",
    "\n",
    "plt.show()"
   ]
  },
  {
   "cell_type": "markdown",
   "id": "7e28aa67",
   "metadata": {},
   "source": [
    "#### Observation:\n",
    "    \n",
    "* Prices are very high in cities like coimbatore followed by banglore then kochi.\n",
    "* For electric cars prices are more.\n",
    "* Automatic cars are more expensive than mannual cars.\n",
    "* We can see that the most expensive brand is Bentley."
   ]
  },
  {
   "cell_type": "code",
   "execution_count": null,
   "id": "8d6a90be",
   "metadata": {},
   "outputs": [],
   "source": []
  },
  {
   "cell_type": "code",
   "execution_count": null,
   "id": "768c2180",
   "metadata": {},
   "outputs": [],
   "source": []
  },
  {
   "cell_type": "code",
   "execution_count": null,
   "id": "00bf0021",
   "metadata": {},
   "outputs": [],
   "source": []
  },
  {
   "cell_type": "code",
   "execution_count": null,
   "id": "85086431",
   "metadata": {},
   "outputs": [],
   "source": []
  },
  {
   "cell_type": "code",
   "execution_count": null,
   "id": "25e5f667",
   "metadata": {},
   "outputs": [],
   "source": []
  },
  {
   "cell_type": "code",
   "execution_count": null,
   "id": "ac0ac7bf",
   "metadata": {},
   "outputs": [],
   "source": []
  },
  {
   "cell_type": "code",
   "execution_count": null,
   "id": "60704ec2",
   "metadata": {},
   "outputs": [],
   "source": []
  },
  {
   "cell_type": "code",
   "execution_count": null,
   "id": "7066c416",
   "metadata": {},
   "outputs": [],
   "source": []
  },
  {
   "cell_type": "code",
   "execution_count": null,
   "id": "a37089b9",
   "metadata": {},
   "outputs": [],
   "source": []
  },
  {
   "cell_type": "code",
   "execution_count": null,
   "id": "21ab8168",
   "metadata": {},
   "outputs": [],
   "source": []
  },
  {
   "cell_type": "code",
   "execution_count": null,
   "id": "8ffda274",
   "metadata": {},
   "outputs": [],
   "source": []
  },
  {
   "cell_type": "code",
   "execution_count": null,
   "id": "7255f199",
   "metadata": {},
   "outputs": [],
   "source": []
  },
  {
   "cell_type": "code",
   "execution_count": null,
   "id": "9e9f8ccf",
   "metadata": {},
   "outputs": [],
   "source": []
  },
  {
   "cell_type": "code",
   "execution_count": null,
   "id": "8ba610ca",
   "metadata": {},
   "outputs": [],
   "source": []
  },
  {
   "cell_type": "code",
   "execution_count": null,
   "id": "b482cf98",
   "metadata": {},
   "outputs": [],
   "source": []
  },
  {
   "cell_type": "code",
   "execution_count": null,
   "id": "ee8f7b86",
   "metadata": {},
   "outputs": [],
   "source": []
  },
  {
   "cell_type": "code",
   "execution_count": null,
   "id": "7903a1fb",
   "metadata": {},
   "outputs": [],
   "source": []
  }
 ],
 "metadata": {
  "kernelspec": {
   "display_name": "Python 3 (ipykernel)",
   "language": "python",
   "name": "python3"
  },
  "language_info": {
   "codemirror_mode": {
    "name": "ipython",
    "version": 3
   },
   "file_extension": ".py",
   "mimetype": "text/x-python",
   "name": "python",
   "nbconvert_exporter": "python",
   "pygments_lexer": "ipython3",
   "version": "3.10.7"
  }
 },
 "nbformat": 4,
 "nbformat_minor": 5
}
