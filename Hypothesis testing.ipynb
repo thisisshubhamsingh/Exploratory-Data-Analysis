{
 "cells": [
  {
   "cell_type": "markdown",
   "id": "972e8371",
   "metadata": {},
   "source": [
    "                                   Use Python to conduct a hypothesis test\n",
    "                                                May 17, 2023"
   ]
  },
  {
   "cell_type": "markdown",
   "id": "93977900",
   "metadata": {},
   "source": [
    "### Hypothesis testing - t-test\n",
    "\n",
    "A t test is a statistical test that is used to compare the means of two groups. \n",
    "\n",
    "The t test assumes your data:\n",
    "\n",
    "* are independent\n",
    "* are (approximately) normally distributed\n",
    "* have a similar amount of variance within each group being compared (a.k.a. homogeneity of variance)\n",
    "\n"
   ]
  },
  {
   "cell_type": "markdown",
   "id": "a315d593",
   "metadata": {},
   "source": [
    "#### problem statement:\n",
    "You want to know whether the mean petal length of iris flowers differs according to their species. You find two different species of irises growing in a garden and measure 25 petals of each species.\n",
    "\n",
    "I can use Python to simulate taking a random sample of 20 petal lengths in each species, and conduct a\n",
    "two-sample t-test based on the sample data."
   ]
  },
  {
   "cell_type": "markdown",
   "id": "f94ac6a7",
   "metadata": {},
   "source": [
    "Before I begin with the exercises and analyzing the data, I need to import all libraries and extensions\n",
    "required for this programming exercise. I will be using pandas and scipy stats for operations.\n"
   ]
  },
  {
   "cell_type": "code",
   "execution_count": 1,
   "id": "545da82d",
   "metadata": {},
   "outputs": [],
   "source": [
    "import pandas as pd\n",
    "import scipy.stats as stats"
   ]
  },
  {
   "cell_type": "code",
   "execution_count": 2,
   "id": "73e4e3f4",
   "metadata": {},
   "outputs": [
    {
     "data": {
      "text/html": [
       "<div>\n",
       "<style scoped>\n",
       "    .dataframe tbody tr th:only-of-type {\n",
       "        vertical-align: middle;\n",
       "    }\n",
       "\n",
       "    .dataframe tbody tr th {\n",
       "        vertical-align: top;\n",
       "    }\n",
       "\n",
       "    .dataframe thead th {\n",
       "        text-align: right;\n",
       "    }\n",
       "</style>\n",
       "<table border=\"1\" class=\"dataframe\">\n",
       "  <thead>\n",
       "    <tr style=\"text-align: right;\">\n",
       "      <th></th>\n",
       "      <th>Sepal.Length</th>\n",
       "      <th>Sepal.Width</th>\n",
       "      <th>Petal.Length</th>\n",
       "      <th>Petal.Width</th>\n",
       "      <th>Species</th>\n",
       "    </tr>\n",
       "  </thead>\n",
       "  <tbody>\n",
       "    <tr>\n",
       "      <th>0</th>\n",
       "      <td>5.1</td>\n",
       "      <td>3.5</td>\n",
       "      <td>1.4</td>\n",
       "      <td>0.2</td>\n",
       "      <td>setosa</td>\n",
       "    </tr>\n",
       "    <tr>\n",
       "      <th>1</th>\n",
       "      <td>4.7</td>\n",
       "      <td>3.2</td>\n",
       "      <td>1.3</td>\n",
       "      <td>0.2</td>\n",
       "      <td>setosa</td>\n",
       "    </tr>\n",
       "    <tr>\n",
       "      <th>2</th>\n",
       "      <td>5.0</td>\n",
       "      <td>3.6</td>\n",
       "      <td>1.4</td>\n",
       "      <td>0.2</td>\n",
       "      <td>setosa</td>\n",
       "    </tr>\n",
       "    <tr>\n",
       "      <th>3</th>\n",
       "      <td>4.6</td>\n",
       "      <td>3.4</td>\n",
       "      <td>1.4</td>\n",
       "      <td>0.3</td>\n",
       "      <td>setosa</td>\n",
       "    </tr>\n",
       "    <tr>\n",
       "      <th>4</th>\n",
       "      <td>4.4</td>\n",
       "      <td>2.9</td>\n",
       "      <td>1.4</td>\n",
       "      <td>0.2</td>\n",
       "      <td>setosa</td>\n",
       "    </tr>\n",
       "  </tbody>\n",
       "</table>\n",
       "</div>"
      ],
      "text/plain": [
       "   Sepal.Length  Sepal.Width  Petal.Length  Petal.Width Species\n",
       "0           5.1          3.5           1.4          0.2  setosa\n",
       "1           4.7          3.2           1.3          0.2  setosa\n",
       "2           5.0          3.6           1.4          0.2  setosa\n",
       "3           4.6          3.4           1.4          0.3  setosa\n",
       "4           4.4          2.9           1.4          0.2  setosa"
      ]
     },
     "execution_count": 2,
     "metadata": {},
     "output_type": "execute_result"
    }
   ],
   "source": [
    "df = pd.read_csv('flower.data.csv')\n",
    "\n",
    "#droped unnecessary column\n",
    "df.drop('Unnamed: 0', axis = 1 , inplace=True)\n",
    "df.head()"
   ]
  },
  {
   "cell_type": "markdown",
   "id": "cad27a33",
   "metadata": {},
   "source": [
    "#### Organize my data\n",
    "\n",
    "To start, I filtered the data frame for the iris petal length data from the species setosa and\n",
    "virginica.\n",
    "\n",
    "First, name a new variable: df_setosa. Then, use the relational operator for equals (==) to get the\n",
    "relevant data from the species column"
   ]
  },
  {
   "cell_type": "code",
   "execution_count": 3,
   "id": "db88ef35",
   "metadata": {
    "scrolled": false
   },
   "outputs": [],
   "source": [
    "df_setosa = df[df['Species'] == 'setosa']"
   ]
  },
  {
   "cell_type": "markdown",
   "id": "42f5dd2f",
   "metadata": {},
   "source": [
    "Next, name another variable: df_virginica. Follow the same procedure to get the relevant data from\n",
    "the species column."
   ]
  },
  {
   "cell_type": "code",
   "execution_count": 4,
   "id": "fd488689",
   "metadata": {},
   "outputs": [],
   "source": [
    "df_virginica = df[df['Species'] == 'virginica']\n",
    "\n",
    "#reset index\n",
    "df_virginica.reset_index(drop = True,inplace=True)"
   ]
  },
  {
   "cell_type": "markdown",
   "id": "df640ee6",
   "metadata": {},
   "source": [
    "#### Simulate random sampling\n",
    "\n",
    "Now that I have organized the data, I used the sample() function to take a random sample of\n",
    "20 petal lengths from each species. First, name a new variable: sampled_setosa. Then, enter the\n",
    "arguments of the sample() function.\n",
    "\n",
    "* **n**: Your sample size is 20.\n",
    "*  **replace**: daefault false or Choose True when you are sampling with replacement.\n",
    "*  **random_state**: Choose an arbitrary number for the random seed– how about 12000.\n",
    "\n",
    "when we use random state, the output will be the same random value every time. It’s random in the sense that it’s not predictable from the input. But it’s reproducible, because the value will be the same if I run it again, and should be the same if you run it too.\n",
    "\n",
    "Note that it makes absolutely no difference what number you pass as the argument to random_state."
   ]
  },
  {
   "cell_type": "code",
   "execution_count": 5,
   "id": "38de4b07",
   "metadata": {},
   "outputs": [],
   "source": [
    "sampled_setosa = df_setosa.sample(n = 20 , random_state = 12000)"
   ]
  },
  {
   "cell_type": "markdown",
   "id": "6bddcfb8",
   "metadata": {},
   "source": [
    "Now, I named another variable: sampled_virginica. Follow the same procedure, but this time chose\n",
    "a different number for the random seed -- how about 22560."
   ]
  },
  {
   "cell_type": "code",
   "execution_count": 6,
   "id": "2b8bf978",
   "metadata": {},
   "outputs": [],
   "source": [
    "sampled_virginica = df_virginica.sample(n = 20 , random_state = 22560)"
   ]
  },
  {
   "cell_type": "markdown",
   "id": "5d5034f6",
   "metadata": {},
   "source": [
    "#### Compute the sample means\n",
    "\n",
    "I now have two random samples of 20 petal lengths, one sample for each specie. Next, I used mean() to\n",
    "compute the mean petal length for both setosa and virginica."
   ]
  },
  {
   "cell_type": "code",
   "execution_count": 7,
   "id": "82590f68",
   "metadata": {},
   "outputs": [
    {
     "data": {
      "text/plain": [
       "1.47"
      ]
     },
     "execution_count": 7,
     "metadata": {},
     "output_type": "execute_result"
    }
   ],
   "source": [
    "sampled_setosa['Petal.Length'].mean()"
   ]
  },
  {
   "cell_type": "code",
   "execution_count": 8,
   "id": "735116bc",
   "metadata": {},
   "outputs": [
    {
     "data": {
      "text/plain": [
       "5.569999999999999"
      ]
     },
     "execution_count": 8,
     "metadata": {},
     "output_type": "execute_result"
    }
   ],
   "source": [
    "sampled_virginica['Petal.Length'].mean()"
   ]
  },
  {
   "cell_type": "markdown",
   "id": "2b38c996",
   "metadata": {},
   "source": [
    "setosa has a mean petal length of about 1.47, while virginica has a mean petal length\n",
    "of about 5.569.\n",
    "\n",
    "Based on my sample data, the observed difference between the mean petal lengths of\n",
    "setosa and virginica is 4.099 points (5.569 - 1.47).\n",
    "\n",
    "**Note**: At this point, I might be tempted to conclude that virginica has a higher overall petal length than setosa. \n",
    "However, due to sampling variability, this observed difference might simply\n",
    "be due to chance - rather than an actual difference in the corresponding population means. A\n",
    "hypothesis test can help me determine whether or not my results are statistically significant."
   ]
  },
  {
   "cell_type": "markdown",
   "id": "c728ed8a",
   "metadata": {},
   "source": [
    "### Conduct a hypothesis test\n",
    "\n",
    "Now that I have organized the data and simulated random sampling, I am ready to conduct the\n",
    "hypothesis test. Recall that the two-sample t-test is the standard approach for comparing the\n",
    "means of two independent samples. Let’s review the steps for conducting a hypothesis test:\n",
    "1. State the null hypothesis and the alternative hypothesis\n",
    "2. Choose a significance level\n",
    "3. Find the p-value\n",
    "4. Reject or fail to reject the null hypothesis"
   ]
  },
  {
   "cell_type": "markdown",
   "id": "473c9f13",
   "metadata": {},
   "source": [
    "#### Step 1: State the null hypothesis and the alternative hypothesis\n",
    "\n",
    "The null hypothesis is a statement that is assumed to be true unless there is convincing evidence\n",
    "to the contrary. The alternative hypothesis is a statement that contradicts the null hypothesis,\n",
    "and is accepted as true only if there is convincing evidence for it.\n",
    "\n",
    "In a two-sample t-test, the null hypothesis states that there is no difference between the means of\n",
    "your two groups. The alternative hypothesis states the contrary claim: there is a difference between\n",
    "the means of your two groups.\n",
    "\n",
    "We use H0 to denote the null hypothesis, and HA to denote the alternative hypothesis.\n",
    "\n",
    "* **H0**: There is no difference in the mean petal length between SETOSA and VIRGINICA\n",
    "* **HA**: There is a difference in the mean petal length between SETOSA and VIRGINICA"
   ]
  },
  {
   "cell_type": "markdown",
   "id": "32e37c3f",
   "metadata": {},
   "source": [
    "#### Step 2: Choose a significance level\n",
    "    \n",
    "The significance level is the threshold in which I will consider a result statistically significant.\n",
    "This is the probability of rejecting the null hypothesis when it is true. In Iris dataset used their standard level of 5%, or 0.05"
   ]
  },
  {
   "cell_type": "markdown",
   "id": "e213ff9a",
   "metadata": {},
   "source": [
    "#### Step 3: Find the p-value\n",
    "    \n",
    "P-value refers to the probability of observing results as or more extreme than those observed when\n",
    "the null hypothesis is true.\n",
    "\n",
    "Based on my sample data, the difference between the mean petal lenghts of SETOSA\n",
    "and VIRGINICA is 4.099 points. The null hypothesis claims that this difference is due to\n",
    "chance. The p-value is the probability of observing an absolute difference in sample means that\n",
    "is 4.099 or greater if the null hypothesis is true. If the probability of this outcome is very unlikely\n",
    "in particular, if my p-value is less than the significance level of 5% – then I will reject the null\n",
    "hypothesis.\n",
    "\n",
    "\n"
   ]
  },
  {
   "cell_type": "markdown",
   "id": "e54a8858",
   "metadata": {},
   "source": [
    "#### Two-Sample t test\n",
    "\n",
    "* Observations come from two separate populations (separate species), so we perform a **two-sample t test.**\n",
    "* We don’t care about the direction of the difference, only whether there is a difference, so we choose to use a **two-tailed t test.**"
   ]
  },
  {
   "cell_type": "markdown",
   "id": "d70c1953",
   "metadata": {},
   "source": [
    "#### Performing a t test\n",
    "\n",
    "**scipy.stats.ttest_ind()**  For a **two-sample t-test**, I can use scipy.stats.ttest_ind() to com\u0002pute the p-value. This function includes the following arguments:\n",
    "\n",
    "* **a**: Observations from the first sample.\n",
    "* **b**: Observations from the second sample.\n",
    "* **equal_var**: A boolean, or true/false statement, which indicates whether the population\n",
    "variance of the two samples is assumed to be equal. In my example, I don’t have access to\n",
    "data for the entire population, so I don’t want to assume anything about the variance. To\n",
    "avoid making a wrong assumption, set this argument to False.\n",
    "\n",
    "Reference: https://docs.scipy.org/doc/scipy/reference/generated/scipy.stats.ttest_ind.html.\n",
    "\n",
    "Now I’m ready to write my code and enter the relevant arguments:\n",
    "\n",
    "* a: The first sample refers to the iris petal length data for SETOSA, which is stored in\n",
    "the Petal.Length column of the variable sampled_ setosa.\n",
    "* b: The second sample refers to the iris petal length data for VIRGININCA, which is stored\n",
    "in the Petal.Length column of the variable sampled_ virginica.\n",
    "* equal_var: Set to True because I want to assume that the two samples have the same\n",
    "variance"
   ]
  },
  {
   "cell_type": "code",
   "execution_count": 9,
   "id": "654665b8",
   "metadata": {},
   "outputs": [
    {
     "data": {
      "text/plain": [
       "Ttest_indResult(statistic=-31.100840266683495, pvalue=1.2294574474813836e-28)"
      ]
     },
     "execution_count": 9,
     "metadata": {},
     "output_type": "execute_result"
    }
   ],
   "source": [
    "stats.ttest_ind(a = sampled_setosa['Petal.Length'] , b = sampled_virginica['Petal.Length'] , equal_var=True)"
   ]
  },
  {
   "cell_type": "markdown",
   "id": "3da5fe3d",
   "metadata": {},
   "source": [
    "* The t value: -33.719. Note that it’s negative; this is fine! In most cases, we only care about the absolute value of the difference, or the distance from 0. It doesn’t matter which direction.\n",
    "* The p value: 1.22e-28 (i.e. 1.22 with 27 zeros in front). This describes the probability that you would see a t value as large as this one by chance."
   ]
  },
  {
   "cell_type": "markdown",
   "id": "ae1d33db",
   "metadata": {},
   "source": [
    "#### Step 4: Reject or fail to reject the null hypothesis\n",
    "\n",
    "To draw a conclusion, compare the p-value with the significance level.\n",
    "\n",
    "* If the p-value is less than the significance level, I conclude there is a statistically significant\n",
    "difference in the mean iris petal length between SETOSA and VIRGINICA. In other\n",
    "words, I reject the null hypothesis H0.\n",
    "\n",
    "* If the p-value is greater than the significance level, I conclude there is not a statistically\n",
    "significant difference in the mean iris petal length between SETOSA and VIRGINICA. In\n",
    "other words, I fail to reject the null hypothesis H0.\n",
    "\n",
    "My p-value of 1.22e-28, is very less than the significance level of 0.05, or 5% (**p-value < 0.05**). So, I **reject the\n",
    "null hypothesis**, and conclude that there is a **statistically significant difference between the mean\n",
    "iris petal length of the two species SETOSA and VIRGINICA**.\n"
   ]
  },
  {
   "cell_type": "markdown",
   "id": "8c5012b3",
   "metadata": {},
   "source": [
    "#### Conclusion:\n",
    "\n",
    "The difference in petal length between iris species setosa (M = 1.456; SD = 0.206) and iris species virginica (M = 5.54; SD = 0.569) was significant (t  = −33.7190; p < 0.05)."
   ]
  }
 ],
 "metadata": {
  "kernelspec": {
   "display_name": "Python 3 (ipykernel)",
   "language": "python",
   "name": "python3"
  },
  "language_info": {
   "codemirror_mode": {
    "name": "ipython",
    "version": 3
   },
   "file_extension": ".py",
   "mimetype": "text/x-python",
   "name": "python",
   "nbconvert_exporter": "python",
   "pygments_lexer": "ipython3",
   "version": "3.10.7"
  }
 },
 "nbformat": 4,
 "nbformat_minor": 5
}
